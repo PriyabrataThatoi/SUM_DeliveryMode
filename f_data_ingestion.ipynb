{
 "cells": [
  {
   "cell_type": "code",
   "execution_count": 271,
   "metadata": {
    "collapsed": true,
    "pycharm": {
     "name": "#%%\n"
    }
   },
   "outputs": [
    {
     "name": "stdout",
     "output_type": "stream",
     "text": [
      "/Users/pthatoi/Desktop/Projects/Research/Healthcare/fwd\n"
     ]
    }
   ],
   "source": [
    "import numpy as np\n",
    "import pandas as pd\n",
    "import os\n",
    "from functools import reduce\n",
    "import pandas as pd\n",
    "import re\n",
    "import glob\n",
    "\n",
    "print(os.getcwd())\n"
   ]
  },
  {
   "cell_type": "code",
   "execution_count": 333,
   "outputs": [
    {
     "data": {
      "text/plain": "(712, 38)"
     },
     "execution_count": 333,
     "metadata": {},
     "output_type": "execute_result"
    }
   ],
   "source": [
    "df = pd.read_excel('AUG-2021.xlsx')\n",
    "df.shape\n",
    "# df.columns = df.iloc[1]"
   ],
   "metadata": {
    "collapsed": false,
    "pycharm": {
     "name": "#%%\n"
    }
   }
  },
  {
   "cell_type": "code",
   "execution_count": 334,
   "outputs": [],
   "source": [
    " # columns\n",
    "df.columns = columns\n"
   ],
   "metadata": {
    "collapsed": false,
    "pycharm": {
     "name": "#%%\n"
    }
   }
  },
  {
   "cell_type": "code",
   "execution_count": 342,
   "outputs": [
    {
     "data": {
      "text/plain": "     SL.NO     DATE  REGISTRATION           NAME  &  ADDRESS     AGE  \\\n0    SL.NO     DATE  REGISTRATION           NAME  &  ADDRESS     AGE   \n1      NaN      NaN           NaN                        NaN     NaN   \n2        1   1.8.21     210801006        TRUPTIMAYEE MALLICK  25 YRS   \n3      NaN  8.30 AM           NaN  W/O- SANDEEP PRESAD SAHOO     NaN   \n4      NaN      NaN           NaN               AT- KASHIPUR     NaN   \n..     ...      ...           ...                        ...     ...   \n707    NaN      NaN           NaN                        NaN     NaN   \n708    NaN      NaN           NaN                        NaN     NaN   \n709    NaN      NaN           NaN                        NaN     NaN   \n710    NaN      NaN           NaN                        NaN     NaN   \n711    NaN      NaN           NaN                        NaN     NaN   \n\n     SES/BPL/APL  EDUCATION   OCCUPATION  REFRAL             EDD/GA  ...  \\\n0    SES/BPL/APL  EDUCATION   OCCUPATION  REFRAL             EDD/GA  ...   \n1            NaN        NaN          NaN     NaN                NaN  ...   \n2        GENERAL        B.A  HOUSE-WIFE/     NaN                NaN  ...   \n3          HINDU        B.A      HUS-JOB     NaN         EDD-4.8.21  ...   \n4            NaN        NaN          NaN     NaN  GA- 39 WKS 4 DAYS  ...   \n..           ...        ...          ...     ...                ...  ...   \n707          NaN        NaN          NaN     NaN                NaN  ...   \n708          NaN        NaN          NaN     NaN                NaN  ...   \n709          NaN        NaN          NaN     NaN                NaN  ...   \n710          NaN        NaN          NaN     NaN                NaN  ...   \n711          NaN        NaN          NaN     NaN                NaN  ...   \n\n     INDUCTION   DT  OF   DISCHARGE  MOTHER CONDITION  B/O   IP NO  GDM  \\\n0    INDUCTION   DT  OF   DISCHARGE  MOTHER CONDITION  B/O   IP NO  GDM   \n1          NaN                  NaN               NaN          NaN  NaN   \n2          NaN                  NaN               NaN    210801012  NaN   \n3          NaN                  NaN               NaN          NaN  NaN   \n4          NaN                  NaN               NaN          NaN  NaN   \n..         ...                  ...               ...          ...  ...   \n707        NaN                  NaN               NaN          NaN  NaN   \n708        NaN                  NaN               NaN          NaN  NaN   \n709        NaN                  NaN               NaN          NaN  NaN   \n710        NaN                  NaN               NaN          NaN  NaN   \n711        NaN                  NaN               NaN          NaN  NaN   \n\n     THYROIED  RH-VE  OTHER  BLOOD TRANSFUSE/ RECIVED, RFF, RDP  CLOT/UN CLOT  \n0    THYROIED  RH-VE  OTHER  BLOOD TRANSFUSE/ RECIVED, RFF, RDP  CLOT/UN CLOT  \n1         NaN    NaN    NaN                                 NaN           NaN  \n2         NaN    NaN    NaN                                 NaN           NaN  \n3         NaN    NaN    NaN                                 NaN           NaN  \n4         NaN    NaN    NaN                                 NaN           NaN  \n..        ...    ...    ...                                 ...           ...  \n707       NaN    NaN    NaN                                 NaN           NaN  \n708       NaN    NaN    NaN                                 NaN           NaN  \n709       NaN    NaN    NaN                                 NaN           NaN  \n710       NaN    NaN    NaN                                 NaN           NaN  \n711       NaN    NaN    NaN                                 NaN           NaN  \n\n[712 rows x 38 columns]",
      "text/html": "<div>\n<style scoped>\n    .dataframe tbody tr th:only-of-type {\n        vertical-align: middle;\n    }\n\n    .dataframe tbody tr th {\n        vertical-align: top;\n    }\n\n    .dataframe thead th {\n        text-align: right;\n    }\n</style>\n<table border=\"1\" class=\"dataframe\">\n  <thead>\n    <tr style=\"text-align: right;\">\n      <th></th>\n      <th>SL.NO</th>\n      <th>DATE</th>\n      <th>REGISTRATION</th>\n      <th>NAME  &amp;  ADDRESS</th>\n      <th>AGE</th>\n      <th>SES/BPL/APL</th>\n      <th>EDUCATION</th>\n      <th>OCCUPATION</th>\n      <th>REFRAL</th>\n      <th>EDD/GA</th>\n      <th>...</th>\n      <th>INDUCTION</th>\n      <th>DT  OF   DISCHARGE</th>\n      <th>MOTHER CONDITION</th>\n      <th>B/O   IP NO</th>\n      <th>GDM</th>\n      <th>THYROIED</th>\n      <th>RH-VE</th>\n      <th>OTHER</th>\n      <th>BLOOD TRANSFUSE/ RECIVED, RFF, RDP</th>\n      <th>CLOT/UN CLOT</th>\n    </tr>\n  </thead>\n  <tbody>\n    <tr>\n      <th>0</th>\n      <td>SL.NO</td>\n      <td>DATE</td>\n      <td>REGISTRATION</td>\n      <td>NAME  &amp;  ADDRESS</td>\n      <td>AGE</td>\n      <td>SES/BPL/APL</td>\n      <td>EDUCATION</td>\n      <td>OCCUPATION</td>\n      <td>REFRAL</td>\n      <td>EDD/GA</td>\n      <td>...</td>\n      <td>INDUCTION</td>\n      <td>DT  OF   DISCHARGE</td>\n      <td>MOTHER CONDITION</td>\n      <td>B/O   IP NO</td>\n      <td>GDM</td>\n      <td>THYROIED</td>\n      <td>RH-VE</td>\n      <td>OTHER</td>\n      <td>BLOOD TRANSFUSE/ RECIVED, RFF, RDP</td>\n      <td>CLOT/UN CLOT</td>\n    </tr>\n    <tr>\n      <th>1</th>\n      <td>NaN</td>\n      <td>NaN</td>\n      <td>NaN</td>\n      <td>NaN</td>\n      <td>NaN</td>\n      <td>NaN</td>\n      <td>NaN</td>\n      <td>NaN</td>\n      <td>NaN</td>\n      <td>NaN</td>\n      <td>...</td>\n      <td>NaN</td>\n      <td>NaN</td>\n      <td>NaN</td>\n      <td>NaN</td>\n      <td>NaN</td>\n      <td>NaN</td>\n      <td>NaN</td>\n      <td>NaN</td>\n      <td>NaN</td>\n      <td>NaN</td>\n    </tr>\n    <tr>\n      <th>2</th>\n      <td>1</td>\n      <td>1.8.21</td>\n      <td>210801006</td>\n      <td>TRUPTIMAYEE MALLICK</td>\n      <td>25 YRS</td>\n      <td>GENERAL</td>\n      <td>B.A</td>\n      <td>HOUSE-WIFE/</td>\n      <td>NaN</td>\n      <td>NaN</td>\n      <td>...</td>\n      <td>NaN</td>\n      <td>NaN</td>\n      <td>NaN</td>\n      <td>210801012</td>\n      <td>NaN</td>\n      <td>NaN</td>\n      <td>NaN</td>\n      <td>NaN</td>\n      <td>NaN</td>\n      <td>NaN</td>\n    </tr>\n    <tr>\n      <th>3</th>\n      <td>NaN</td>\n      <td>8.30 AM</td>\n      <td>NaN</td>\n      <td>W/O- SANDEEP PRESAD SAHOO</td>\n      <td>NaN</td>\n      <td>HINDU</td>\n      <td>B.A</td>\n      <td>HUS-JOB</td>\n      <td>NaN</td>\n      <td>EDD-4.8.21</td>\n      <td>...</td>\n      <td>NaN</td>\n      <td>NaN</td>\n      <td>NaN</td>\n      <td>NaN</td>\n      <td>NaN</td>\n      <td>NaN</td>\n      <td>NaN</td>\n      <td>NaN</td>\n      <td>NaN</td>\n      <td>NaN</td>\n    </tr>\n    <tr>\n      <th>4</th>\n      <td>NaN</td>\n      <td>NaN</td>\n      <td>NaN</td>\n      <td>AT- KASHIPUR</td>\n      <td>NaN</td>\n      <td>NaN</td>\n      <td>NaN</td>\n      <td>NaN</td>\n      <td>NaN</td>\n      <td>GA- 39 WKS 4 DAYS</td>\n      <td>...</td>\n      <td>NaN</td>\n      <td>NaN</td>\n      <td>NaN</td>\n      <td>NaN</td>\n      <td>NaN</td>\n      <td>NaN</td>\n      <td>NaN</td>\n      <td>NaN</td>\n      <td>NaN</td>\n      <td>NaN</td>\n    </tr>\n    <tr>\n      <th>...</th>\n      <td>...</td>\n      <td>...</td>\n      <td>...</td>\n      <td>...</td>\n      <td>...</td>\n      <td>...</td>\n      <td>...</td>\n      <td>...</td>\n      <td>...</td>\n      <td>...</td>\n      <td>...</td>\n      <td>...</td>\n      <td>...</td>\n      <td>...</td>\n      <td>...</td>\n      <td>...</td>\n      <td>...</td>\n      <td>...</td>\n      <td>...</td>\n      <td>...</td>\n      <td>...</td>\n    </tr>\n    <tr>\n      <th>707</th>\n      <td>NaN</td>\n      <td>NaN</td>\n      <td>NaN</td>\n      <td>NaN</td>\n      <td>NaN</td>\n      <td>NaN</td>\n      <td>NaN</td>\n      <td>NaN</td>\n      <td>NaN</td>\n      <td>NaN</td>\n      <td>...</td>\n      <td>NaN</td>\n      <td>NaN</td>\n      <td>NaN</td>\n      <td>NaN</td>\n      <td>NaN</td>\n      <td>NaN</td>\n      <td>NaN</td>\n      <td>NaN</td>\n      <td>NaN</td>\n      <td>NaN</td>\n    </tr>\n    <tr>\n      <th>708</th>\n      <td>NaN</td>\n      <td>NaN</td>\n      <td>NaN</td>\n      <td>NaN</td>\n      <td>NaN</td>\n      <td>NaN</td>\n      <td>NaN</td>\n      <td>NaN</td>\n      <td>NaN</td>\n      <td>NaN</td>\n      <td>...</td>\n      <td>NaN</td>\n      <td>NaN</td>\n      <td>NaN</td>\n      <td>NaN</td>\n      <td>NaN</td>\n      <td>NaN</td>\n      <td>NaN</td>\n      <td>NaN</td>\n      <td>NaN</td>\n      <td>NaN</td>\n    </tr>\n    <tr>\n      <th>709</th>\n      <td>NaN</td>\n      <td>NaN</td>\n      <td>NaN</td>\n      <td>NaN</td>\n      <td>NaN</td>\n      <td>NaN</td>\n      <td>NaN</td>\n      <td>NaN</td>\n      <td>NaN</td>\n      <td>NaN</td>\n      <td>...</td>\n      <td>NaN</td>\n      <td>NaN</td>\n      <td>NaN</td>\n      <td>NaN</td>\n      <td>NaN</td>\n      <td>NaN</td>\n      <td>NaN</td>\n      <td>NaN</td>\n      <td>NaN</td>\n      <td>NaN</td>\n    </tr>\n    <tr>\n      <th>710</th>\n      <td>NaN</td>\n      <td>NaN</td>\n      <td>NaN</td>\n      <td>NaN</td>\n      <td>NaN</td>\n      <td>NaN</td>\n      <td>NaN</td>\n      <td>NaN</td>\n      <td>NaN</td>\n      <td>NaN</td>\n      <td>...</td>\n      <td>NaN</td>\n      <td>NaN</td>\n      <td>NaN</td>\n      <td>NaN</td>\n      <td>NaN</td>\n      <td>NaN</td>\n      <td>NaN</td>\n      <td>NaN</td>\n      <td>NaN</td>\n      <td>NaN</td>\n    </tr>\n    <tr>\n      <th>711</th>\n      <td>NaN</td>\n      <td>NaN</td>\n      <td>NaN</td>\n      <td>NaN</td>\n      <td>NaN</td>\n      <td>NaN</td>\n      <td>NaN</td>\n      <td>NaN</td>\n      <td>NaN</td>\n      <td>NaN</td>\n      <td>...</td>\n      <td>NaN</td>\n      <td>NaN</td>\n      <td>NaN</td>\n      <td>NaN</td>\n      <td>NaN</td>\n      <td>NaN</td>\n      <td>NaN</td>\n      <td>NaN</td>\n      <td>NaN</td>\n      <td>NaN</td>\n    </tr>\n  </tbody>\n</table>\n<p>712 rows × 38 columns</p>\n</div>"
     },
     "execution_count": 342,
     "metadata": {},
     "output_type": "execute_result"
    }
   ],
   "source": [
    "df"
   ],
   "metadata": {
    "collapsed": false,
    "pycharm": {
     "name": "#%%\n"
    }
   }
  },
  {
   "cell_type": "code",
   "execution_count": 343,
   "outputs": [
    {
     "data": {
      "text/plain": "     SL.NO     DATE REGISTRATION           NAME  &  ADDRESS   AGE SES/BPL/APL  \\\n2      1.0   1.8.21    210801006        TRUPTIMAYEE MALLICK  25.0     GENERAL   \n3      1.0  8.30 AM          nan  W/O- SANDEEP PRESAD SAHOO   NaN       HINDU   \n4      1.0      nan          nan               AT- KASHIPUR   NaN         nan   \n5      1.0      nan          nan         PO-/PS- NIRAKARPUR   NaN         nan   \n6      1.0      nan          nan              DIST- KHURDHA   NaN         nan   \n..     ...      ...          ...                        ...   ...         ...   \n707   92.0      nan          nan                        nan   NaN         nan   \n708   92.0      nan          nan                        nan   NaN         nan   \n709   92.0      nan          nan                        nan   NaN         nan   \n710   92.0      nan          nan                        nan   NaN         nan   \n711   92.0      nan          nan                        nan   NaN         nan   \n\n    EDUCATION   OCCUPATION REFRAL             EDD/GA  \\\n2         B.A  HOUSE-WIFE/    nan                nan   \n3         B.A      HUS-JOB    nan         EDD-4.8.21   \n4         nan          nan    nan  GA- 39 WKS 4 DAYS   \n5         nan          nan    nan                nan   \n6         nan          nan    nan                nan   \n..        ...          ...    ...                ...   \n707       nan          nan    nan                nan   \n708       nan          nan    nan                nan   \n709       nan          nan    nan                nan   \n710       nan          nan    nan                nan   \n711       nan          nan    nan                nan   \n\n                                      DIAGNOSIS METHOD-VD/CS  \\\n2    PRIMI AT 39 WKS  4 DAYS POG WITH IUGR WITH          NVD   \n3              HYPOTHYRAIDISIM IN ACTIVE LABOUR          nan   \n4                                           nan          nan   \n5                                           nan          nan   \n6                                           nan          nan   \n..                                          ...          ...   \n707                                         nan          nan   \n708                                         nan          nan   \n709                                         nan          nan   \n710                                         nan          nan   \n711                                         nan          nan   \n\n    ELECTIVE/EMERGENCY INDICATION    HB      BP          HHH            B -G  \\\n2                  nan        nan  11.4  110/70          nan             nan   \n3                  nan        nan   nan     nan          nan             nan   \n4                  nan        nan   nan     nan          nan             nan   \n5                  nan        nan   nan     nan          nan             nan   \n6                  nan        nan   nan     nan          nan             nan   \n..                 ...        ...   ...     ...          ...             ...   \n707                nan        nan   nan     nan          nan             nan   \n708                nan        nan   nan     nan          nan             nan   \n709                nan        nan   nan     nan          nan             nan   \n710                nan        nan   nan     nan          nan             nan   \n711                nan        nan   nan     nan          nan             nan   \n\n                       USG  \n2                      nan  \n3                      nan  \n4                      nan  \n5                      nan  \n6                      nan  \n..                     ...  \n707                    nan  \n708                    nan  \n709                    nan  \n710                    nan  \n711                    nan  \n\n[710 rows x 19 columns]",
      "text/html": "<div>\n<style scoped>\n    .dataframe tbody tr th:only-of-type {\n        vertical-align: middle;\n    }\n\n    .dataframe tbody tr th {\n        vertical-align: top;\n    }\n\n    .dataframe thead th {\n        text-align: right;\n    }\n</style>\n<table border=\"1\" class=\"dataframe\">\n  <thead>\n    <tr style=\"text-align: right;\">\n      <th></th>\n      <th>SL.NO</th>\n      <th>DATE</th>\n      <th>REGISTRATION</th>\n      <th>NAME  &amp;  ADDRESS</th>\n      <th>AGE</th>\n      <th>SES/BPL/APL</th>\n      <th>EDUCATION</th>\n      <th>OCCUPATION</th>\n      <th>REFRAL</th>\n      <th>EDD/GA</th>\n      <th>DIAGNOSIS</th>\n      <th>METHOD-VD/CS</th>\n      <th>ELECTIVE/EMERGENCY</th>\n      <th>INDICATION</th>\n      <th>HB</th>\n      <th>BP</th>\n      <th>HHH</th>\n      <th>B -G</th>\n      <th>USG</th>\n    </tr>\n  </thead>\n  <tbody>\n    <tr>\n      <th>2</th>\n      <td>1.0</td>\n      <td>1.8.21</td>\n      <td>210801006</td>\n      <td>TRUPTIMAYEE MALLICK</td>\n      <td>25.0</td>\n      <td>GENERAL</td>\n      <td>B.A</td>\n      <td>HOUSE-WIFE/</td>\n      <td>nan</td>\n      <td>nan</td>\n      <td>PRIMI AT 39 WKS  4 DAYS POG WITH IUGR WITH</td>\n      <td>NVD</td>\n      <td>nan</td>\n      <td>nan</td>\n      <td>11.4</td>\n      <td>110/70</td>\n      <td>nan</td>\n      <td>nan</td>\n      <td>nan</td>\n    </tr>\n    <tr>\n      <th>3</th>\n      <td>1.0</td>\n      <td>8.30 AM</td>\n      <td>nan</td>\n      <td>W/O- SANDEEP PRESAD SAHOO</td>\n      <td>NaN</td>\n      <td>HINDU</td>\n      <td>B.A</td>\n      <td>HUS-JOB</td>\n      <td>nan</td>\n      <td>EDD-4.8.21</td>\n      <td>HYPOTHYRAIDISIM IN ACTIVE LABOUR</td>\n      <td>nan</td>\n      <td>nan</td>\n      <td>nan</td>\n      <td>nan</td>\n      <td>nan</td>\n      <td>nan</td>\n      <td>nan</td>\n      <td>nan</td>\n    </tr>\n    <tr>\n      <th>4</th>\n      <td>1.0</td>\n      <td>nan</td>\n      <td>nan</td>\n      <td>AT- KASHIPUR</td>\n      <td>NaN</td>\n      <td>nan</td>\n      <td>nan</td>\n      <td>nan</td>\n      <td>nan</td>\n      <td>GA- 39 WKS 4 DAYS</td>\n      <td>nan</td>\n      <td>nan</td>\n      <td>nan</td>\n      <td>nan</td>\n      <td>nan</td>\n      <td>nan</td>\n      <td>nan</td>\n      <td>nan</td>\n      <td>nan</td>\n    </tr>\n    <tr>\n      <th>5</th>\n      <td>1.0</td>\n      <td>nan</td>\n      <td>nan</td>\n      <td>PO-/PS- NIRAKARPUR</td>\n      <td>NaN</td>\n      <td>nan</td>\n      <td>nan</td>\n      <td>nan</td>\n      <td>nan</td>\n      <td>nan</td>\n      <td>nan</td>\n      <td>nan</td>\n      <td>nan</td>\n      <td>nan</td>\n      <td>nan</td>\n      <td>nan</td>\n      <td>nan</td>\n      <td>nan</td>\n      <td>nan</td>\n    </tr>\n    <tr>\n      <th>6</th>\n      <td>1.0</td>\n      <td>nan</td>\n      <td>nan</td>\n      <td>DIST- KHURDHA</td>\n      <td>NaN</td>\n      <td>nan</td>\n      <td>nan</td>\n      <td>nan</td>\n      <td>nan</td>\n      <td>nan</td>\n      <td>nan</td>\n      <td>nan</td>\n      <td>nan</td>\n      <td>nan</td>\n      <td>nan</td>\n      <td>nan</td>\n      <td>nan</td>\n      <td>nan</td>\n      <td>nan</td>\n    </tr>\n    <tr>\n      <th>...</th>\n      <td>...</td>\n      <td>...</td>\n      <td>...</td>\n      <td>...</td>\n      <td>...</td>\n      <td>...</td>\n      <td>...</td>\n      <td>...</td>\n      <td>...</td>\n      <td>...</td>\n      <td>...</td>\n      <td>...</td>\n      <td>...</td>\n      <td>...</td>\n      <td>...</td>\n      <td>...</td>\n      <td>...</td>\n      <td>...</td>\n      <td>...</td>\n    </tr>\n    <tr>\n      <th>707</th>\n      <td>92.0</td>\n      <td>nan</td>\n      <td>nan</td>\n      <td>nan</td>\n      <td>NaN</td>\n      <td>nan</td>\n      <td>nan</td>\n      <td>nan</td>\n      <td>nan</td>\n      <td>nan</td>\n      <td>nan</td>\n      <td>nan</td>\n      <td>nan</td>\n      <td>nan</td>\n      <td>nan</td>\n      <td>nan</td>\n      <td>nan</td>\n      <td>nan</td>\n      <td>nan</td>\n    </tr>\n    <tr>\n      <th>708</th>\n      <td>92.0</td>\n      <td>nan</td>\n      <td>nan</td>\n      <td>nan</td>\n      <td>NaN</td>\n      <td>nan</td>\n      <td>nan</td>\n      <td>nan</td>\n      <td>nan</td>\n      <td>nan</td>\n      <td>nan</td>\n      <td>nan</td>\n      <td>nan</td>\n      <td>nan</td>\n      <td>nan</td>\n      <td>nan</td>\n      <td>nan</td>\n      <td>nan</td>\n      <td>nan</td>\n    </tr>\n    <tr>\n      <th>709</th>\n      <td>92.0</td>\n      <td>nan</td>\n      <td>nan</td>\n      <td>nan</td>\n      <td>NaN</td>\n      <td>nan</td>\n      <td>nan</td>\n      <td>nan</td>\n      <td>nan</td>\n      <td>nan</td>\n      <td>nan</td>\n      <td>nan</td>\n      <td>nan</td>\n      <td>nan</td>\n      <td>nan</td>\n      <td>nan</td>\n      <td>nan</td>\n      <td>nan</td>\n      <td>nan</td>\n    </tr>\n    <tr>\n      <th>710</th>\n      <td>92.0</td>\n      <td>nan</td>\n      <td>nan</td>\n      <td>nan</td>\n      <td>NaN</td>\n      <td>nan</td>\n      <td>nan</td>\n      <td>nan</td>\n      <td>nan</td>\n      <td>nan</td>\n      <td>nan</td>\n      <td>nan</td>\n      <td>nan</td>\n      <td>nan</td>\n      <td>nan</td>\n      <td>nan</td>\n      <td>nan</td>\n      <td>nan</td>\n      <td>nan</td>\n    </tr>\n    <tr>\n      <th>711</th>\n      <td>92.0</td>\n      <td>nan</td>\n      <td>nan</td>\n      <td>nan</td>\n      <td>NaN</td>\n      <td>nan</td>\n      <td>nan</td>\n      <td>nan</td>\n      <td>nan</td>\n      <td>nan</td>\n      <td>nan</td>\n      <td>nan</td>\n      <td>nan</td>\n      <td>nan</td>\n      <td>nan</td>\n      <td>nan</td>\n      <td>nan</td>\n      <td>nan</td>\n      <td>nan</td>\n    </tr>\n  </tbody>\n</table>\n<p>710 rows × 19 columns</p>\n</div>"
     },
     "execution_count": 343,
     "metadata": {},
     "output_type": "execute_result"
    }
   ],
   "source": [
    "column_terminate = 19\n",
    "row_terminate = 2\n",
    "df_ = df.iloc[row_terminate:,:column_terminate]\n",
    "for col in df_.columns.tolist() :\n",
    "    df_[col] = df_[col].astype(str)\n",
    "\n",
    "df_['SL.NO'] = pd.to_numeric(df_['SL.NO'], errors='coerce')\n",
    "df_['AGE'] = df_['AGE'].str.extract(r'(\\d+)').astype(float)\n",
    "# Forward fill the 'SL.NO' column again\n",
    "df_['SL.NO'] = df_['SL.NO'].ffill()\n",
    "df_"
   ],
   "metadata": {
    "collapsed": false,
    "pycharm": {
     "name": "#%%\n"
    }
   }
  },
  {
   "cell_type": "code",
   "execution_count": 47,
   "outputs": [],
   "source": [],
   "metadata": {
    "collapsed": false,
    "pycharm": {
     "name": "#%%\n"
    }
   }
  },
  {
   "cell_type": "code",
   "execution_count": 93,
   "outputs": [
    {
     "data": {
      "text/plain": "   SL.NO height\n0    1.0   152C\n1    2.0   152C\n2    3.0    NaN\n3    4.0    NaN\n4    5.0    NaN\n5    6.0    NaN\n6    7.0   151C\n7    8.0    NaN\n8    9.0    NaN\n9   10.0   152C",
      "text/html": "<div>\n<style scoped>\n    .dataframe tbody tr th:only-of-type {\n        vertical-align: middle;\n    }\n\n    .dataframe tbody tr th {\n        vertical-align: top;\n    }\n\n    .dataframe thead th {\n        text-align: right;\n    }\n</style>\n<table border=\"1\" class=\"dataframe\">\n  <thead>\n    <tr style=\"text-align: right;\">\n      <th></th>\n      <th>SL.NO</th>\n      <th>height</th>\n    </tr>\n  </thead>\n  <tbody>\n    <tr>\n      <th>0</th>\n      <td>1.0</td>\n      <td>152C</td>\n    </tr>\n    <tr>\n      <th>1</th>\n      <td>2.0</td>\n      <td>152C</td>\n    </tr>\n    <tr>\n      <th>2</th>\n      <td>3.0</td>\n      <td>NaN</td>\n    </tr>\n    <tr>\n      <th>3</th>\n      <td>4.0</td>\n      <td>NaN</td>\n    </tr>\n    <tr>\n      <th>4</th>\n      <td>5.0</td>\n      <td>NaN</td>\n    </tr>\n    <tr>\n      <th>5</th>\n      <td>6.0</td>\n      <td>NaN</td>\n    </tr>\n    <tr>\n      <th>6</th>\n      <td>7.0</td>\n      <td>151C</td>\n    </tr>\n    <tr>\n      <th>7</th>\n      <td>8.0</td>\n      <td>NaN</td>\n    </tr>\n    <tr>\n      <th>8</th>\n      <td>9.0</td>\n      <td>NaN</td>\n    </tr>\n    <tr>\n      <th>9</th>\n      <td>10.0</td>\n      <td>152C</td>\n    </tr>\n  </tbody>\n</table>\n</div>"
     },
     "execution_count": 93,
     "metadata": {},
     "output_type": "execute_result"
    }
   ],
   "source": [
    "#HEIGHT EXTRACTION\n",
    "# Forward fill the 'SL.NO' column to replace NaNs with the preceding number\n",
    "df_['SL.NO'] = df_['SL.NO'].ffill()\n",
    "\n",
    "# Reinitialize the list to store the data\n",
    "extracted_data = []\n",
    "\n",
    "# Initialize current_sl_no outside of the loop\n",
    "current_sl_no = None\n",
    "\n",
    "# Iterate through the DataFrame\n",
    "for _, row in df_.iterrows():\n",
    "    # Get the current 'SL.NO'\n",
    "    current_sl_no = row['SL.NO']\n",
    "    # If the 'REGISTRATION' column contains 'hight-', extract the height value\n",
    "    if pd.notnull(row['REGISTRATION']) and 'hight-' in str(row['REGISTRATION']):\n",
    "        current_height = row['REGISTRATION'].split('hight-')[1].split(' ')[0]\n",
    "        # Append the SL.NO and height to the list\n",
    "        extracted_data.append({'SL.NO': current_sl_no, 'height': current_height})\n",
    "\n",
    "# Convert the list of dictionaries to a DataFrame\n",
    "height_df = pd.DataFrame(extracted_data)\n",
    "\n",
    "# Drop duplicate rows (if any) to have unique 'SL.NO' - 'height' pairs\n",
    "height_df = height_df.drop_duplicates()\n",
    "\n",
    "# Create a DataFrame with unique 'SL.NO' from the original DataFrame\n",
    "sl_no_df = df_[['SL.NO']].drop_duplicates()\n",
    "\n",
    "# Merge this with the extracted weight data\n",
    "# Use an outer join to ensure all 'SL.NO' are included, even if there's no corresponding 'weight'\n",
    "complete_height_df = sl_no_df.merge(height_df, on='SL.NO', how='left')\n",
    "\n",
    "complete_height_df.head(10)\n"
   ],
   "metadata": {
    "collapsed": false,
    "pycharm": {
     "name": "#%%\n"
    }
   }
  },
  {
   "cell_type": "code",
   "execution_count": 91,
   "outputs": [
    {
     "data": {
      "text/plain": "   SL.NO weight\n0    1.0     65\n1    2.0     65\n2    3.0    NaN\n3    4.0    NaN\n4    5.0    NaN\n5    6.0    NaN\n6    7.0   72kg\n7    8.0    NaN\n8    9.0    NaN\n9   10.0   68kg",
      "text/html": "<div>\n<style scoped>\n    .dataframe tbody tr th:only-of-type {\n        vertical-align: middle;\n    }\n\n    .dataframe tbody tr th {\n        vertical-align: top;\n    }\n\n    .dataframe thead th {\n        text-align: right;\n    }\n</style>\n<table border=\"1\" class=\"dataframe\">\n  <thead>\n    <tr style=\"text-align: right;\">\n      <th></th>\n      <th>SL.NO</th>\n      <th>weight</th>\n    </tr>\n  </thead>\n  <tbody>\n    <tr>\n      <th>0</th>\n      <td>1.0</td>\n      <td>65</td>\n    </tr>\n    <tr>\n      <th>1</th>\n      <td>2.0</td>\n      <td>65</td>\n    </tr>\n    <tr>\n      <th>2</th>\n      <td>3.0</td>\n      <td>NaN</td>\n    </tr>\n    <tr>\n      <th>3</th>\n      <td>4.0</td>\n      <td>NaN</td>\n    </tr>\n    <tr>\n      <th>4</th>\n      <td>5.0</td>\n      <td>NaN</td>\n    </tr>\n    <tr>\n      <th>5</th>\n      <td>6.0</td>\n      <td>NaN</td>\n    </tr>\n    <tr>\n      <th>6</th>\n      <td>7.0</td>\n      <td>72kg</td>\n    </tr>\n    <tr>\n      <th>7</th>\n      <td>8.0</td>\n      <td>NaN</td>\n    </tr>\n    <tr>\n      <th>8</th>\n      <td>9.0</td>\n      <td>NaN</td>\n    </tr>\n    <tr>\n      <th>9</th>\n      <td>10.0</td>\n      <td>68kg</td>\n    </tr>\n  </tbody>\n</table>\n</div>"
     },
     "execution_count": 91,
     "metadata": {},
     "output_type": "execute_result"
    }
   ],
   "source": [
    "# WEIGHT COLUMN EXTRACTION\n",
    "# Reinitialize the list to store the data for weight extraction\n",
    "extracted_weight_data = []\n",
    "\n",
    "# Iterate through the DataFrame\n",
    "for _, row in df_.iterrows():\n",
    "    # Get the current 'SL.NO'\n",
    "    current_sl_no = row['SL.NO']\n",
    "    # If the 'DATE' column contains 'kg', extract the weight value\n",
    "    if pd.notnull(row['DATE']) and 'kg' in str(row['DATE']):\n",
    "        current_weight = row['DATE'].split(' ')[0]  # Assuming the format is 'XX kg'\n",
    "        # Append the SL.NO and weight to the list\n",
    "        extracted_weight_data.append({'SL.NO': current_sl_no, 'weight': current_weight})\n",
    "\n",
    "# Convert the list of dictionaries to a DataFrame\n",
    "weight_df = pd.DataFrame(extracted_weight_data)\n",
    "\n",
    "# Drop duplicate rows (if any) to have unique 'SL.NO' - 'weight' pairs\n",
    "weight_df = weight_df.drop_duplicates()\n",
    "\n",
    "# Create a DataFrame with unique 'SL.NO' from the original DataFrame\n",
    "sl_no_df = df_[['SL.NO']].drop_duplicates()\n",
    "\n",
    "# Merge this with the extracted weight data\n",
    "# Use an outer join to ensure all 'SL.NO' are included, even if there's no corresponding 'weight'\n",
    "complete_weight_df = sl_no_df.merge(weight_df, on='SL.NO', how='left')\n",
    "\n",
    "complete_weight_df.head(10)\n",
    "\n"
   ],
   "metadata": {
    "collapsed": false,
    "pycharm": {
     "name": "#%%\n"
    }
   }
  },
  {
   "cell_type": "code",
   "execution_count": 114,
   "outputs": [
    {
     "data": {
      "text/plain": "1   SL.NO   AGE\n0     1.0  34.0\n2     2.0  28.0\n4     3.0  31.0\n6     4.0  29.0\n8     5.0  28.0\n10    6.0  26.0\n12    7.0  25.0\n14    8.0  32.0\n16    9.0  23.0\n18   10.0  21.0",
      "text/html": "<div>\n<style scoped>\n    .dataframe tbody tr th:only-of-type {\n        vertical-align: middle;\n    }\n\n    .dataframe tbody tr th {\n        vertical-align: top;\n    }\n\n    .dataframe thead th {\n        text-align: right;\n    }\n</style>\n<table border=\"1\" class=\"dataframe\">\n  <thead>\n    <tr style=\"text-align: right;\">\n      <th>1</th>\n      <th>SL.NO</th>\n      <th>AGE</th>\n    </tr>\n  </thead>\n  <tbody>\n    <tr>\n      <th>0</th>\n      <td>1.0</td>\n      <td>34.0</td>\n    </tr>\n    <tr>\n      <th>2</th>\n      <td>2.0</td>\n      <td>28.0</td>\n    </tr>\n    <tr>\n      <th>4</th>\n      <td>3.0</td>\n      <td>31.0</td>\n    </tr>\n    <tr>\n      <th>6</th>\n      <td>4.0</td>\n      <td>29.0</td>\n    </tr>\n    <tr>\n      <th>8</th>\n      <td>5.0</td>\n      <td>28.0</td>\n    </tr>\n    <tr>\n      <th>10</th>\n      <td>6.0</td>\n      <td>26.0</td>\n    </tr>\n    <tr>\n      <th>12</th>\n      <td>7.0</td>\n      <td>25.0</td>\n    </tr>\n    <tr>\n      <th>14</th>\n      <td>8.0</td>\n      <td>32.0</td>\n    </tr>\n    <tr>\n      <th>16</th>\n      <td>9.0</td>\n      <td>23.0</td>\n    </tr>\n    <tr>\n      <th>18</th>\n      <td>10.0</td>\n      <td>21.0</td>\n    </tr>\n  </tbody>\n</table>\n</div>"
     },
     "execution_count": 114,
     "metadata": {},
     "output_type": "execute_result"
    }
   ],
   "source": [
    "# AGE\n",
    "age = df_[['SL.NO','AGE']].drop_duplicates().reset_index()\n",
    "complete_age = age[~age.AGE.isna()].drop(columns=['index'])\n",
    "complete_age.head(10)"
   ],
   "metadata": {
    "collapsed": false,
    "pycharm": {
     "name": "#%%\n"
    }
   }
  },
  {
   "cell_type": "code",
   "execution_count": 124,
   "outputs": [
    {
     "data": {
      "text/plain": "   SL.NO       lmp\n0    1.0   31.3.20\n1    2.0  15.04.20\n2    3.0       NaN\n3    4.0   5.04.20\n4    5.0  29.03.20\n5    6.0  10.06.20\n6    7.0       NaN\n7    8.0  13.04.20\n8    9.0  05.04.20\n9   10.0  07.04.20",
      "text/html": "<div>\n<style scoped>\n    .dataframe tbody tr th:only-of-type {\n        vertical-align: middle;\n    }\n\n    .dataframe tbody tr th {\n        vertical-align: top;\n    }\n\n    .dataframe thead th {\n        text-align: right;\n    }\n</style>\n<table border=\"1\" class=\"dataframe\">\n  <thead>\n    <tr style=\"text-align: right;\">\n      <th></th>\n      <th>SL.NO</th>\n      <th>lmp</th>\n    </tr>\n  </thead>\n  <tbody>\n    <tr>\n      <th>0</th>\n      <td>1.0</td>\n      <td>31.3.20</td>\n    </tr>\n    <tr>\n      <th>1</th>\n      <td>2.0</td>\n      <td>15.04.20</td>\n    </tr>\n    <tr>\n      <th>2</th>\n      <td>3.0</td>\n      <td>NaN</td>\n    </tr>\n    <tr>\n      <th>3</th>\n      <td>4.0</td>\n      <td>5.04.20</td>\n    </tr>\n    <tr>\n      <th>4</th>\n      <td>5.0</td>\n      <td>29.03.20</td>\n    </tr>\n    <tr>\n      <th>5</th>\n      <td>6.0</td>\n      <td>10.06.20</td>\n    </tr>\n    <tr>\n      <th>6</th>\n      <td>7.0</td>\n      <td>NaN</td>\n    </tr>\n    <tr>\n      <th>7</th>\n      <td>8.0</td>\n      <td>13.04.20</td>\n    </tr>\n    <tr>\n      <th>8</th>\n      <td>9.0</td>\n      <td>05.04.20</td>\n    </tr>\n    <tr>\n      <th>9</th>\n      <td>10.0</td>\n      <td>07.04.20</td>\n    </tr>\n  </tbody>\n</table>\n</div>"
     },
     "execution_count": 124,
     "metadata": {},
     "output_type": "execute_result"
    }
   ],
   "source": [
    "# LMP COLUMN EXTRACTION\n",
    "# Reinitialize the list to store the data for weight extraction\n",
    "extracted_lmp_data = []\n",
    "\n",
    "# Iterate through the DataFrame\n",
    "for _, row in df_.iterrows():\n",
    "    # Get the current 'SL.NO'\n",
    "    current_sl_no = row['SL.NO']\n",
    "    # If the 'DATE' column contains 'kg', extract the weight value\n",
    "    if pd.notnull(row['EDD/GA']) and 'LMP' in str(row['EDD/GA']):\n",
    "        current_lmp = row['EDD/GA'].split(' ')[0]  # Assuming the format is 'XX kg'\n",
    "        # Append the SL.NO and weight to the list\n",
    "        extracted_lmp_data.append({'SL.NO': current_sl_no, 'lmp': current_lmp})\n",
    "\n",
    "# Convert the list of dictionaries to a DataFrame\n",
    "lmp_df = pd.DataFrame(extracted_lmp_data)\n",
    "\n",
    "# Drop duplicate rows (if any) to have unique 'SL.NO' - 'weight' pairs\n",
    "lmp_df = lmp_df.drop_duplicates()\n",
    "\n",
    "# Create a DataFrame with unique 'SL.NO' from the original DataFrame\n",
    "sl_no_df = df_[['SL.NO']].drop_duplicates()\n",
    "\n",
    "# Merge this with the extracted weight data\n",
    "# Use an outer join to ensure all 'SL.NO' are included, even if there's no corresponding 'weight'\n",
    "complete_lmp_df = sl_no_df.merge(lmp_df, on='SL.NO', how='left')\n",
    "complete_lmp_df['lmp']= complete_lmp_df['lmp'].str.split('-').str[1]\n",
    "complete_lmp_df.head(10)"
   ],
   "metadata": {
    "collapsed": false,
    "pycharm": {
     "name": "#%%\n"
    }
   }
  },
  {
   "cell_type": "code",
   "execution_count": 164,
   "outputs": [],
   "source": [
    "def extract_keyword(df,col,keyword) :\n",
    "    # Reinitialize the list to store the data for weight extraction\n",
    "    extracted_data = []\n",
    "\n",
    "    # Iterate through the DataFrame\n",
    "    for _, row in df.iterrows():\n",
    "        # Get the current 'SL.NO'\n",
    "        current_sl_no = row['SL.NO']\n",
    "        # If the 'DATE' column contains 'kg', extract the weight value\n",
    "        if pd.notnull(row[col]) and keyword in str(row[col]):\n",
    "            current_lmp = row[col].split(' ')[0] # Assuming the format is 'XX kg'\n",
    "            # Append the SL.NO and weight to the list\n",
    "            extracted_data.append({'SL.NO': current_sl_no, keyword: current_lmp})\n",
    "\n",
    "    # Convert the list of dictionaries to a DataFrame\n",
    "    keyword_df = pd.DataFrame(extracted_data)\n",
    "\n",
    "    # Drop duplicate rows (if any) to have unique 'SL.NO' - 'weight' pairs\n",
    "    # print(keyword_df)\n",
    "    keyword_df = keyword_df.drop_duplicates()\n",
    "\n",
    "    # Create a DataFrame with unique 'SL.NO' from the original DataFrame\n",
    "    sl_no_df = df_[['SL.NO']].drop_duplicates()\n",
    "\n",
    "    # Merge this with the extracted weight data\n",
    "    # Use an outer join to ensure all 'SL.NO' are included, even if there's no corresponding 'weight'\n",
    "\n",
    "    complete_keyword_df = sl_no_df.merge(keyword_df, on='SL.NO', how='left')\n",
    "    return complete_keyword_df\n",
    "\n",
    "    # complete_lmp_df['lmp']= complete_lmp_df['lmp'].str.split('-').str[1]\n"
   ],
   "metadata": {
    "collapsed": false,
    "pycharm": {
     "name": "#%%\n"
    }
   }
  },
  {
   "cell_type": "code",
   "execution_count": 346,
   "outputs": [],
   "source": [
    "df_1= extract_keyword(df_,'REGISTRATION','hight-')\n",
    "df_2= extract_keyword(df_,'DATE','kg')\n",
    "df_3= extract_keyword(df_,'EDD/GA','LMP')\n",
    "# df_4= extract_keyword(df_,'EDD/GA','GA- ')\n",
    "df_5= extract_keyword(df_,'EDD/GA','EDD')\n"
   ],
   "metadata": {
    "collapsed": false,
    "pycharm": {
     "name": "#%%\n"
    }
   }
  },
  {
   "cell_type": "code",
   "execution_count": 347,
   "outputs": [
    {
     "data": {
      "text/plain": "    SL.NO                                         INDICATION\n0     1.0                [nan, nan, nan, nan, nan, nan, nan]\n1     2.0           [nan, nan, nan, nan, nan, nan, nan, nan]\n2     3.0                [nan, nan, nan, nan, nan, nan, nan]\n3     4.0           [nan, nan, nan, nan, nan, nan, nan, nan]\n4     5.0                [nan, nan, nan, nan, nan, nan, nan]\n..    ...                                                ...\n87   88.0           [nan, nan, nan, nan, nan, nan, nan, nan]\n88   89.0           [nan, nan, nan, nan, nan, nan, nan, nan]\n89   90.0                [nan, nan, nan, nan, nan, nan, nan]\n90   91.0                [nan, nan, nan, nan, nan, nan, nan]\n91   92.0  [nan, nan, nan, nan, nan, nan, nan, nan, nan, ...\n\n[92 rows x 2 columns]",
      "text/html": "<div>\n<style scoped>\n    .dataframe tbody tr th:only-of-type {\n        vertical-align: middle;\n    }\n\n    .dataframe tbody tr th {\n        vertical-align: top;\n    }\n\n    .dataframe thead th {\n        text-align: right;\n    }\n</style>\n<table border=\"1\" class=\"dataframe\">\n  <thead>\n    <tr style=\"text-align: right;\">\n      <th></th>\n      <th>SL.NO</th>\n      <th>INDICATION</th>\n    </tr>\n  </thead>\n  <tbody>\n    <tr>\n      <th>0</th>\n      <td>1.0</td>\n      <td>[nan, nan, nan, nan, nan, nan, nan]</td>\n    </tr>\n    <tr>\n      <th>1</th>\n      <td>2.0</td>\n      <td>[nan, nan, nan, nan, nan, nan, nan, nan]</td>\n    </tr>\n    <tr>\n      <th>2</th>\n      <td>3.0</td>\n      <td>[nan, nan, nan, nan, nan, nan, nan]</td>\n    </tr>\n    <tr>\n      <th>3</th>\n      <td>4.0</td>\n      <td>[nan, nan, nan, nan, nan, nan, nan, nan]</td>\n    </tr>\n    <tr>\n      <th>4</th>\n      <td>5.0</td>\n      <td>[nan, nan, nan, nan, nan, nan, nan]</td>\n    </tr>\n    <tr>\n      <th>...</th>\n      <td>...</td>\n      <td>...</td>\n    </tr>\n    <tr>\n      <th>87</th>\n      <td>88.0</td>\n      <td>[nan, nan, nan, nan, nan, nan, nan, nan]</td>\n    </tr>\n    <tr>\n      <th>88</th>\n      <td>89.0</td>\n      <td>[nan, nan, nan, nan, nan, nan, nan, nan]</td>\n    </tr>\n    <tr>\n      <th>89</th>\n      <td>90.0</td>\n      <td>[nan, nan, nan, nan, nan, nan, nan]</td>\n    </tr>\n    <tr>\n      <th>90</th>\n      <td>91.0</td>\n      <td>[nan, nan, nan, nan, nan, nan, nan]</td>\n    </tr>\n    <tr>\n      <th>91</th>\n      <td>92.0</td>\n      <td>[nan, nan, nan, nan, nan, nan, nan, nan, nan, ...</td>\n    </tr>\n  </tbody>\n</table>\n<p>92 rows × 2 columns</p>\n</div>"
     },
     "execution_count": 347,
     "metadata": {},
     "output_type": "execute_result"
    }
   ],
   "source": [
    "# extract and combine diagnosis\n",
    "def remove_nans(lst):\n",
    "    return [x for x in lst if pd.notnull(x)]\n",
    "\n",
    "df_6 =  df_[~df_['SL.NO'].isnull()].groupby(['SL.NO']).agg({'INDICATION': list}).reset_index()\n",
    "df_6['INDICATION'] = df_6['INDICATION'].apply(lambda x : remove_nans(x))\n",
    "df_6"
   ],
   "metadata": {
    "collapsed": false,
    "pycharm": {
     "name": "#%%\n"
    }
   }
  },
  {
   "cell_type": "code",
   "execution_count": 348,
   "outputs": [
    {
     "data": {
      "text/plain": "    SL.NO                                          DIAGNOSIS\n0     1.0  [PRIMI AT 39 WKS  4 DAYS POG WITH IUGR WITH, H...\n1     2.0  [G2A1 AT 39 WKS 4 DAYS POG IN LATENT LABOUR, n...\n2     3.0  [PRIMI AT 37 WKS 3 DAYS POG WITH OI CONCEPTION...\n3     4.0  [G3P1L1A1 AT 34 WKS 2 DAYS POG IN PRETERM LABO...\n4     5.0  [G2A1 AT 40 WKS 3 DAYS POG WITH  OLIGOHYDRAMNI...\n..    ...                                                ...\n87   88.0  [PRIMI AT 39 WKS 6 DAYS POG FOR SAFE CONFINEME...\n88   89.0  [PRIMI AT 40 WKS 2 DAYS POG WITH SEVERE OLIGOH...\n89   90.0  [G3P1L1A1 AT 38 WK S3 DAYS POG WITH REPAIRED H...\n90   91.0  [PRIMI AT 40 WKS 2 DAYS IN ACTIVE LABOUR, nan,...\n91   92.0  [G4P1L1A2 AT 38 WKS 5 DAYS IN LATENT LABOUR, n...\n\n[92 rows x 2 columns]",
      "text/html": "<div>\n<style scoped>\n    .dataframe tbody tr th:only-of-type {\n        vertical-align: middle;\n    }\n\n    .dataframe tbody tr th {\n        vertical-align: top;\n    }\n\n    .dataframe thead th {\n        text-align: right;\n    }\n</style>\n<table border=\"1\" class=\"dataframe\">\n  <thead>\n    <tr style=\"text-align: right;\">\n      <th></th>\n      <th>SL.NO</th>\n      <th>DIAGNOSIS</th>\n    </tr>\n  </thead>\n  <tbody>\n    <tr>\n      <th>0</th>\n      <td>1.0</td>\n      <td>[PRIMI AT 39 WKS  4 DAYS POG WITH IUGR WITH, H...</td>\n    </tr>\n    <tr>\n      <th>1</th>\n      <td>2.0</td>\n      <td>[G2A1 AT 39 WKS 4 DAYS POG IN LATENT LABOUR, n...</td>\n    </tr>\n    <tr>\n      <th>2</th>\n      <td>3.0</td>\n      <td>[PRIMI AT 37 WKS 3 DAYS POG WITH OI CONCEPTION...</td>\n    </tr>\n    <tr>\n      <th>3</th>\n      <td>4.0</td>\n      <td>[G3P1L1A1 AT 34 WKS 2 DAYS POG IN PRETERM LABO...</td>\n    </tr>\n    <tr>\n      <th>4</th>\n      <td>5.0</td>\n      <td>[G2A1 AT 40 WKS 3 DAYS POG WITH  OLIGOHYDRAMNI...</td>\n    </tr>\n    <tr>\n      <th>...</th>\n      <td>...</td>\n      <td>...</td>\n    </tr>\n    <tr>\n      <th>87</th>\n      <td>88.0</td>\n      <td>[PRIMI AT 39 WKS 6 DAYS POG FOR SAFE CONFINEME...</td>\n    </tr>\n    <tr>\n      <th>88</th>\n      <td>89.0</td>\n      <td>[PRIMI AT 40 WKS 2 DAYS POG WITH SEVERE OLIGOH...</td>\n    </tr>\n    <tr>\n      <th>89</th>\n      <td>90.0</td>\n      <td>[G3P1L1A1 AT 38 WK S3 DAYS POG WITH REPAIRED H...</td>\n    </tr>\n    <tr>\n      <th>90</th>\n      <td>91.0</td>\n      <td>[PRIMI AT 40 WKS 2 DAYS IN ACTIVE LABOUR, nan,...</td>\n    </tr>\n    <tr>\n      <th>91</th>\n      <td>92.0</td>\n      <td>[G4P1L1A2 AT 38 WKS 5 DAYS IN LATENT LABOUR, n...</td>\n    </tr>\n  </tbody>\n</table>\n<p>92 rows × 2 columns</p>\n</div>"
     },
     "execution_count": 348,
     "metadata": {},
     "output_type": "execute_result"
    }
   ],
   "source": [
    "# extract and combine diagnosis\n",
    "def remove_nans(lst):\n",
    "    return [x for x in lst if pd.notnull(x)]\n",
    "\n",
    "df_7 =  df_[~df_['SL.NO'].isnull()].groupby(['SL.NO']).agg({'DIAGNOSIS': list}).reset_index()\n",
    "df_7['DIAGNOSIS'] = df_7['DIAGNOSIS'].apply(lambda x : remove_nans(x))\n",
    "df_7"
   ],
   "metadata": {
    "collapsed": false,
    "pycharm": {
     "name": "#%%\n"
    }
   }
  },
  {
   "cell_type": "code",
   "execution_count": 349,
   "outputs": [
    {
     "data": {
      "text/plain": "    SL.NO                                                USG\n0     1.0                [nan, nan, nan, nan, nan, nan, nan]\n1     2.0           [nan, nan, nan, nan, nan, nan, nan, nan]\n2     3.0  [GA- 36 WKS, SINGLE LIVE INTRAUTERINE FETUS IN...\n3     4.0           [nan, nan, nan, nan, nan, nan, nan, nan]\n4     5.0  [GA- 37 WKS 6 DAYS , E.F.W- 3388 +_508 GMS, FH...\n..    ...                                                ...\n87   88.0  [GA- 38 WKS 2 DAYS , E.F.W- 3594 +_539 GMS, FH...\n88   89.0  [GA- 37 WKS , E.F.W- 2951 +_431 GMS, FHR- 134/...\n89   90.0  [GA- 34 WKS 6 DAYS , E.F.W- 2506 +_375 GMS, FH...\n90   91.0  [SINGLE LIVE INTRAUTERINE FETUS IN CEPHALIC PR...\n91   92.0  [GA- 33 WKS 2 DAYS , SINGLE LIVE FETUS IN CEPH...\n\n[92 rows x 2 columns]",
      "text/html": "<div>\n<style scoped>\n    .dataframe tbody tr th:only-of-type {\n        vertical-align: middle;\n    }\n\n    .dataframe tbody tr th {\n        vertical-align: top;\n    }\n\n    .dataframe thead th {\n        text-align: right;\n    }\n</style>\n<table border=\"1\" class=\"dataframe\">\n  <thead>\n    <tr style=\"text-align: right;\">\n      <th></th>\n      <th>SL.NO</th>\n      <th>USG</th>\n    </tr>\n  </thead>\n  <tbody>\n    <tr>\n      <th>0</th>\n      <td>1.0</td>\n      <td>[nan, nan, nan, nan, nan, nan, nan]</td>\n    </tr>\n    <tr>\n      <th>1</th>\n      <td>2.0</td>\n      <td>[nan, nan, nan, nan, nan, nan, nan, nan]</td>\n    </tr>\n    <tr>\n      <th>2</th>\n      <td>3.0</td>\n      <td>[GA- 36 WKS, SINGLE LIVE INTRAUTERINE FETUS IN...</td>\n    </tr>\n    <tr>\n      <th>3</th>\n      <td>4.0</td>\n      <td>[nan, nan, nan, nan, nan, nan, nan, nan]</td>\n    </tr>\n    <tr>\n      <th>4</th>\n      <td>5.0</td>\n      <td>[GA- 37 WKS 6 DAYS , E.F.W- 3388 +_508 GMS, FH...</td>\n    </tr>\n    <tr>\n      <th>...</th>\n      <td>...</td>\n      <td>...</td>\n    </tr>\n    <tr>\n      <th>87</th>\n      <td>88.0</td>\n      <td>[GA- 38 WKS 2 DAYS , E.F.W- 3594 +_539 GMS, FH...</td>\n    </tr>\n    <tr>\n      <th>88</th>\n      <td>89.0</td>\n      <td>[GA- 37 WKS , E.F.W- 2951 +_431 GMS, FHR- 134/...</td>\n    </tr>\n    <tr>\n      <th>89</th>\n      <td>90.0</td>\n      <td>[GA- 34 WKS 6 DAYS , E.F.W- 2506 +_375 GMS, FH...</td>\n    </tr>\n    <tr>\n      <th>90</th>\n      <td>91.0</td>\n      <td>[SINGLE LIVE INTRAUTERINE FETUS IN CEPHALIC PR...</td>\n    </tr>\n    <tr>\n      <th>91</th>\n      <td>92.0</td>\n      <td>[GA- 33 WKS 2 DAYS , SINGLE LIVE FETUS IN CEPH...</td>\n    </tr>\n  </tbody>\n</table>\n<p>92 rows × 2 columns</p>\n</div>"
     },
     "execution_count": 349,
     "metadata": {},
     "output_type": "execute_result"
    }
   ],
   "source": [
    "df_8 =  df_[~df_['SL.NO'].isnull()].groupby(['SL.NO']).agg({'                   USG': list}).reset_index()\n",
    "df_8['USG'] = df_8['                   USG'].apply(lambda x : remove_nans(x))\n",
    "df_8 = df_8.drop(columns='                   USG')\n",
    "df_8"
   ],
   "metadata": {
    "collapsed": false,
    "pycharm": {
     "name": "#%%\n"
    }
   }
  },
  {
   "cell_type": "code",
   "execution_count": 361,
   "outputs": [
    {
     "data": {
      "text/plain": "     SL.NO     HB      BP           HHH            B -G\n2      1.0   11.4  110/70           nan             nan\n9      2.0   11.1  110/70           nan             nan\n17     3.0   11.4  120/80  NO- REACTIVE          B+  VE\n24     4.0    9.8  130/80  NO- REACTIVE         A +  VE\n32     5.0   11.8  110/70  NO- REACTIVE         A +  VE\n..     ...    ...     ...           ...             ...\n635   89.0   11.6  110/70  NO- REACTIVE         O +  VE\n643   90.0    9.8  110/70  NO- REACTIVE         O +  VE\n657   92.0   11.8  110/70  NO- REACTIVE         B +  VE\n683   92.0   11.2  110/70  NO- REACTIVE         O +  VE\n700   92.0  10 .1  120/80  NO- REACTIVE         A +  VE\n\n[88 rows x 5 columns]",
      "text/html": "<div>\n<style scoped>\n    .dataframe tbody tr th:only-of-type {\n        vertical-align: middle;\n    }\n\n    .dataframe tbody tr th {\n        vertical-align: top;\n    }\n\n    .dataframe thead th {\n        text-align: right;\n    }\n</style>\n<table border=\"1\" class=\"dataframe\">\n  <thead>\n    <tr style=\"text-align: right;\">\n      <th></th>\n      <th>SL.NO</th>\n      <th>HB</th>\n      <th>BP</th>\n      <th>HHH</th>\n      <th>B -G</th>\n    </tr>\n  </thead>\n  <tbody>\n    <tr>\n      <th>2</th>\n      <td>1.0</td>\n      <td>11.4</td>\n      <td>110/70</td>\n      <td>nan</td>\n      <td>nan</td>\n    </tr>\n    <tr>\n      <th>9</th>\n      <td>2.0</td>\n      <td>11.1</td>\n      <td>110/70</td>\n      <td>nan</td>\n      <td>nan</td>\n    </tr>\n    <tr>\n      <th>17</th>\n      <td>3.0</td>\n      <td>11.4</td>\n      <td>120/80</td>\n      <td>NO- REACTIVE</td>\n      <td>B+  VE</td>\n    </tr>\n    <tr>\n      <th>24</th>\n      <td>4.0</td>\n      <td>9.8</td>\n      <td>130/80</td>\n      <td>NO- REACTIVE</td>\n      <td>A +  VE</td>\n    </tr>\n    <tr>\n      <th>32</th>\n      <td>5.0</td>\n      <td>11.8</td>\n      <td>110/70</td>\n      <td>NO- REACTIVE</td>\n      <td>A +  VE</td>\n    </tr>\n    <tr>\n      <th>...</th>\n      <td>...</td>\n      <td>...</td>\n      <td>...</td>\n      <td>...</td>\n      <td>...</td>\n    </tr>\n    <tr>\n      <th>635</th>\n      <td>89.0</td>\n      <td>11.6</td>\n      <td>110/70</td>\n      <td>NO- REACTIVE</td>\n      <td>O +  VE</td>\n    </tr>\n    <tr>\n      <th>643</th>\n      <td>90.0</td>\n      <td>9.8</td>\n      <td>110/70</td>\n      <td>NO- REACTIVE</td>\n      <td>O +  VE</td>\n    </tr>\n    <tr>\n      <th>657</th>\n      <td>92.0</td>\n      <td>11.8</td>\n      <td>110/70</td>\n      <td>NO- REACTIVE</td>\n      <td>B +  VE</td>\n    </tr>\n    <tr>\n      <th>683</th>\n      <td>92.0</td>\n      <td>11.2</td>\n      <td>110/70</td>\n      <td>NO- REACTIVE</td>\n      <td>O +  VE</td>\n    </tr>\n    <tr>\n      <th>700</th>\n      <td>92.0</td>\n      <td>10 .1</td>\n      <td>120/80</td>\n      <td>NO- REACTIVE</td>\n      <td>A +  VE</td>\n    </tr>\n  </tbody>\n</table>\n<p>88 rows × 5 columns</p>\n</div>"
     },
     "execution_count": 361,
     "metadata": {},
     "output_type": "execute_result"
    }
   ],
   "source": [
    "# additional parameters\n",
    "df_9 = df_[['SL.NO', 'HB',\n",
    "     'BP', '         HHH', '           B -G']].drop_duplicates().dropna(how='all', subset = ['HB',\n",
    "                                                                                             'BP', '         HHH', '           B -G'])\n",
    "df_9 = df_9[~(df_9.HB=='nan')]\n",
    "df_9"
   ],
   "metadata": {
    "collapsed": false,
    "pycharm": {
     "name": "#%%\n"
    }
   }
  },
  {
   "cell_type": "code",
   "execution_count": 341,
   "outputs": [
    {
     "data": {
      "text/plain": "     SL.NO     DATE REGISTRATION           NAME  &  ADDRESS  AGE SES/BPL/APL  \\\n3      NaN  8.30 AM          nan  W/O- SANDEEP PRESAD SAHOO  NaN       HINDU   \n4      NaN      nan          nan               AT- KASHIPUR  NaN         nan   \n5      NaN      nan          nan         PO-/PS- NIRAKARPUR  NaN         nan   \n6      NaN      nan          nan              DIST- KHURDHA  NaN         nan   \n7      NaN      nan          nan             PH- 8249494298  NaN         nan   \n..     ...      ...          ...                        ...  ...         ...   \n707   92.0      nan          nan                        nan  NaN         nan   \n708   92.0      nan          nan                        nan  NaN         nan   \n709   92.0      nan          nan                        nan  NaN         nan   \n710   92.0      nan          nan                        nan  NaN         nan   \n711   92.0      nan          nan                        nan  NaN         nan   \n\n    EDUCATION OCCUPATION REFRAL             EDD/GA  \\\n3         B.A    HUS-JOB    nan         EDD-4.8.21   \n4         nan        nan    nan  GA- 39 WKS 4 DAYS   \n5         nan        nan    nan                nan   \n6         nan        nan    nan                nan   \n7         nan        nan    nan                nan   \n..        ...        ...    ...                ...   \n707       nan        nan    nan                nan   \n708       nan        nan    nan                nan   \n709       nan        nan    nan                nan   \n710       nan        nan    nan                nan   \n711       nan        nan    nan                nan   \n\n                            DIAGNOSIS METHOD-VD/CS ELECTIVE/EMERGENCY  \\\n3    HYPOTHYRAIDISIM IN ACTIVE LABOUR          nan                nan   \n4                                 nan          nan                nan   \n5                                 nan          nan                nan   \n6                                 nan          nan                nan   \n7                                 nan          nan                nan   \n..                                ...          ...                ...   \n707                               nan          nan                nan   \n708                               nan          nan                nan   \n709                               nan          nan                nan   \n710                               nan          nan                nan   \n711                               nan          nan                nan   \n\n    INDICATION   HB   BP          HHH            B -G                    USG  \n3          nan  nan  nan          nan             nan                    nan  \n4          nan  nan  nan          nan             nan                    nan  \n5          nan  nan  nan          nan             nan                    nan  \n6          nan  nan  nan          nan             nan                    nan  \n7          nan  nan  nan          nan             nan                    nan  \n..         ...  ...  ...          ...             ...                    ...  \n707        nan  nan  nan          nan             nan                    nan  \n708        nan  nan  nan          nan             nan                    nan  \n709        nan  nan  nan          nan             nan                    nan  \n710        nan  nan  nan          nan             nan                    nan  \n711        nan  nan  nan          nan             nan                    nan  \n\n[709 rows x 19 columns]",
      "text/html": "<div>\n<style scoped>\n    .dataframe tbody tr th:only-of-type {\n        vertical-align: middle;\n    }\n\n    .dataframe tbody tr th {\n        vertical-align: top;\n    }\n\n    .dataframe thead th {\n        text-align: right;\n    }\n</style>\n<table border=\"1\" class=\"dataframe\">\n  <thead>\n    <tr style=\"text-align: right;\">\n      <th></th>\n      <th>SL.NO</th>\n      <th>DATE</th>\n      <th>REGISTRATION</th>\n      <th>NAME  &amp;  ADDRESS</th>\n      <th>AGE</th>\n      <th>SES/BPL/APL</th>\n      <th>EDUCATION</th>\n      <th>OCCUPATION</th>\n      <th>REFRAL</th>\n      <th>EDD/GA</th>\n      <th>DIAGNOSIS</th>\n      <th>METHOD-VD/CS</th>\n      <th>ELECTIVE/EMERGENCY</th>\n      <th>INDICATION</th>\n      <th>HB</th>\n      <th>BP</th>\n      <th>HHH</th>\n      <th>B -G</th>\n      <th>USG</th>\n    </tr>\n  </thead>\n  <tbody>\n    <tr>\n      <th>3</th>\n      <td>NaN</td>\n      <td>8.30 AM</td>\n      <td>nan</td>\n      <td>W/O- SANDEEP PRESAD SAHOO</td>\n      <td>NaN</td>\n      <td>HINDU</td>\n      <td>B.A</td>\n      <td>HUS-JOB</td>\n      <td>nan</td>\n      <td>EDD-4.8.21</td>\n      <td>HYPOTHYRAIDISIM IN ACTIVE LABOUR</td>\n      <td>nan</td>\n      <td>nan</td>\n      <td>nan</td>\n      <td>nan</td>\n      <td>nan</td>\n      <td>nan</td>\n      <td>nan</td>\n      <td>nan</td>\n    </tr>\n    <tr>\n      <th>4</th>\n      <td>NaN</td>\n      <td>nan</td>\n      <td>nan</td>\n      <td>AT- KASHIPUR</td>\n      <td>NaN</td>\n      <td>nan</td>\n      <td>nan</td>\n      <td>nan</td>\n      <td>nan</td>\n      <td>GA- 39 WKS 4 DAYS</td>\n      <td>nan</td>\n      <td>nan</td>\n      <td>nan</td>\n      <td>nan</td>\n      <td>nan</td>\n      <td>nan</td>\n      <td>nan</td>\n      <td>nan</td>\n      <td>nan</td>\n    </tr>\n    <tr>\n      <th>5</th>\n      <td>NaN</td>\n      <td>nan</td>\n      <td>nan</td>\n      <td>PO-/PS- NIRAKARPUR</td>\n      <td>NaN</td>\n      <td>nan</td>\n      <td>nan</td>\n      <td>nan</td>\n      <td>nan</td>\n      <td>nan</td>\n      <td>nan</td>\n      <td>nan</td>\n      <td>nan</td>\n      <td>nan</td>\n      <td>nan</td>\n      <td>nan</td>\n      <td>nan</td>\n      <td>nan</td>\n      <td>nan</td>\n    </tr>\n    <tr>\n      <th>6</th>\n      <td>NaN</td>\n      <td>nan</td>\n      <td>nan</td>\n      <td>DIST- KHURDHA</td>\n      <td>NaN</td>\n      <td>nan</td>\n      <td>nan</td>\n      <td>nan</td>\n      <td>nan</td>\n      <td>nan</td>\n      <td>nan</td>\n      <td>nan</td>\n      <td>nan</td>\n      <td>nan</td>\n      <td>nan</td>\n      <td>nan</td>\n      <td>nan</td>\n      <td>nan</td>\n      <td>nan</td>\n    </tr>\n    <tr>\n      <th>7</th>\n      <td>NaN</td>\n      <td>nan</td>\n      <td>nan</td>\n      <td>PH- 8249494298</td>\n      <td>NaN</td>\n      <td>nan</td>\n      <td>nan</td>\n      <td>nan</td>\n      <td>nan</td>\n      <td>nan</td>\n      <td>nan</td>\n      <td>nan</td>\n      <td>nan</td>\n      <td>nan</td>\n      <td>nan</td>\n      <td>nan</td>\n      <td>nan</td>\n      <td>nan</td>\n      <td>nan</td>\n    </tr>\n    <tr>\n      <th>...</th>\n      <td>...</td>\n      <td>...</td>\n      <td>...</td>\n      <td>...</td>\n      <td>...</td>\n      <td>...</td>\n      <td>...</td>\n      <td>...</td>\n      <td>...</td>\n      <td>...</td>\n      <td>...</td>\n      <td>...</td>\n      <td>...</td>\n      <td>...</td>\n      <td>...</td>\n      <td>...</td>\n      <td>...</td>\n      <td>...</td>\n      <td>...</td>\n    </tr>\n    <tr>\n      <th>707</th>\n      <td>92.0</td>\n      <td>nan</td>\n      <td>nan</td>\n      <td>nan</td>\n      <td>NaN</td>\n      <td>nan</td>\n      <td>nan</td>\n      <td>nan</td>\n      <td>nan</td>\n      <td>nan</td>\n      <td>nan</td>\n      <td>nan</td>\n      <td>nan</td>\n      <td>nan</td>\n      <td>nan</td>\n      <td>nan</td>\n      <td>nan</td>\n      <td>nan</td>\n      <td>nan</td>\n    </tr>\n    <tr>\n      <th>708</th>\n      <td>92.0</td>\n      <td>nan</td>\n      <td>nan</td>\n      <td>nan</td>\n      <td>NaN</td>\n      <td>nan</td>\n      <td>nan</td>\n      <td>nan</td>\n      <td>nan</td>\n      <td>nan</td>\n      <td>nan</td>\n      <td>nan</td>\n      <td>nan</td>\n      <td>nan</td>\n      <td>nan</td>\n      <td>nan</td>\n      <td>nan</td>\n      <td>nan</td>\n      <td>nan</td>\n    </tr>\n    <tr>\n      <th>709</th>\n      <td>92.0</td>\n      <td>nan</td>\n      <td>nan</td>\n      <td>nan</td>\n      <td>NaN</td>\n      <td>nan</td>\n      <td>nan</td>\n      <td>nan</td>\n      <td>nan</td>\n      <td>nan</td>\n      <td>nan</td>\n      <td>nan</td>\n      <td>nan</td>\n      <td>nan</td>\n      <td>nan</td>\n      <td>nan</td>\n      <td>nan</td>\n      <td>nan</td>\n      <td>nan</td>\n    </tr>\n    <tr>\n      <th>710</th>\n      <td>92.0</td>\n      <td>nan</td>\n      <td>nan</td>\n      <td>nan</td>\n      <td>NaN</td>\n      <td>nan</td>\n      <td>nan</td>\n      <td>nan</td>\n      <td>nan</td>\n      <td>nan</td>\n      <td>nan</td>\n      <td>nan</td>\n      <td>nan</td>\n      <td>nan</td>\n      <td>nan</td>\n      <td>nan</td>\n      <td>nan</td>\n      <td>nan</td>\n      <td>nan</td>\n    </tr>\n    <tr>\n      <th>711</th>\n      <td>92.0</td>\n      <td>nan</td>\n      <td>nan</td>\n      <td>nan</td>\n      <td>NaN</td>\n      <td>nan</td>\n      <td>nan</td>\n      <td>nan</td>\n      <td>nan</td>\n      <td>nan</td>\n      <td>nan</td>\n      <td>nan</td>\n      <td>nan</td>\n      <td>nan</td>\n      <td>nan</td>\n      <td>nan</td>\n      <td>nan</td>\n      <td>nan</td>\n      <td>nan</td>\n    </tr>\n  </tbody>\n</table>\n<p>709 rows × 19 columns</p>\n</div>"
     },
     "execution_count": 341,
     "metadata": {},
     "output_type": "execute_result"
    }
   ],
   "source": [
    "df_"
   ],
   "metadata": {
    "collapsed": false,
    "pycharm": {
     "name": "#%%\n"
    }
   }
  },
  {
   "cell_type": "code",
   "execution_count": 248,
   "outputs": [
    {
     "data": {
      "text/plain": "    SL.NO  GA\n0     1.0  39\n1     2.0  36\n2     3.0  38\n3     4.0  38\n4     5.0  38\n..    ...  ..\n89   91.0  39\n90   92.0  40\n91   93.0  25\n92   94.0  38\n93   95.0  36\n\n[94 rows x 2 columns]",
      "text/html": "<div>\n<style scoped>\n    .dataframe tbody tr th:only-of-type {\n        vertical-align: middle;\n    }\n\n    .dataframe tbody tr th {\n        vertical-align: top;\n    }\n\n    .dataframe thead th {\n        text-align: right;\n    }\n</style>\n<table border=\"1\" class=\"dataframe\">\n  <thead>\n    <tr style=\"text-align: right;\">\n      <th></th>\n      <th>SL.NO</th>\n      <th>GA</th>\n    </tr>\n  </thead>\n  <tbody>\n    <tr>\n      <th>0</th>\n      <td>1.0</td>\n      <td>39</td>\n    </tr>\n    <tr>\n      <th>1</th>\n      <td>2.0</td>\n      <td>36</td>\n    </tr>\n    <tr>\n      <th>2</th>\n      <td>3.0</td>\n      <td>38</td>\n    </tr>\n    <tr>\n      <th>3</th>\n      <td>4.0</td>\n      <td>38</td>\n    </tr>\n    <tr>\n      <th>4</th>\n      <td>5.0</td>\n      <td>38</td>\n    </tr>\n    <tr>\n      <th>...</th>\n      <td>...</td>\n      <td>...</td>\n    </tr>\n    <tr>\n      <th>89</th>\n      <td>91.0</td>\n      <td>39</td>\n    </tr>\n    <tr>\n      <th>90</th>\n      <td>92.0</td>\n      <td>40</td>\n    </tr>\n    <tr>\n      <th>91</th>\n      <td>93.0</td>\n      <td>25</td>\n    </tr>\n    <tr>\n      <th>92</th>\n      <td>94.0</td>\n      <td>38</td>\n    </tr>\n    <tr>\n      <th>93</th>\n      <td>95.0</td>\n      <td>36</td>\n    </tr>\n  </tbody>\n</table>\n<p>94 rows × 2 columns</p>\n</div>"
     },
     "execution_count": 248,
     "metadata": {},
     "output_type": "execute_result"
    }
   ],
   "source": [
    "# GA Weeks\n",
    "extracted_gw_data = []\n",
    "import re\n",
    "\n",
    "\n",
    "def get_first_element(lst):\n",
    "    if isinstance(lst, list) and lst:\n",
    "        return lst[0]\n",
    "    else:\n",
    "        return None\n",
    "\n",
    "# Iterate through the DataFrame\n",
    "for _, row in df_.iterrows():\n",
    "    # Get the current 'SL.NO'\n",
    "    current_sl_no = row['SL.NO']\n",
    "    # If the 'DATE' column contains 'kg', extract the weight value\n",
    "    if pd.notnull(row['EDD/GA']) and 'GA' in str(row['EDD/GA']):\n",
    "        current_lmp = re.findall(r'\\d+', row['EDD/GA'])  # Assuming the format is 'XX kg'\n",
    "        # Append the SL.NO and weight to the list\n",
    "        extracted_gw_data.append({'SL.NO': current_sl_no, 'GA': current_lmp})\n",
    "\n",
    "# Convert the list of dictionaries to a DataFrame\n",
    "gw_df = pd.DataFrame(extracted_gw_data)\n",
    "gw_df['GA'] = gw_df['GA'].apply(get_first_element)\n",
    "\n",
    "# Drop duplicate rows (if any) to have unique 'SL.NO' - 'weight' pairs\n",
    "df_10 = gw_df.drop_duplicates()\n",
    "df_10"
   ],
   "metadata": {
    "collapsed": false,
    "pycharm": {
     "name": "#%%\n"
    }
   }
  },
  {
   "cell_type": "code",
   "execution_count": 256,
   "outputs": [
    {
     "data": {
      "text/plain": "1    SL.NO METHOD-VD/CS\n3      1.0         LSCS\n10     2.0         LSCS\n17     3.0         LSCS\n25     4.0         LSCS\n33     5.0         LSCS\n..     ...          ...\n666   91.0         LSCS\n673   92.0          NVD\n681   93.0          NVD\n689   94.0         LSCS\n697   95.0         LSCS\n\n[95 rows x 2 columns]",
      "text/html": "<div>\n<style scoped>\n    .dataframe tbody tr th:only-of-type {\n        vertical-align: middle;\n    }\n\n    .dataframe tbody tr th {\n        vertical-align: top;\n    }\n\n    .dataframe thead th {\n        text-align: right;\n    }\n</style>\n<table border=\"1\" class=\"dataframe\">\n  <thead>\n    <tr style=\"text-align: right;\">\n      <th>1</th>\n      <th>SL.NO</th>\n      <th>METHOD-VD/CS</th>\n    </tr>\n  </thead>\n  <tbody>\n    <tr>\n      <th>3</th>\n      <td>1.0</td>\n      <td>LSCS</td>\n    </tr>\n    <tr>\n      <th>10</th>\n      <td>2.0</td>\n      <td>LSCS</td>\n    </tr>\n    <tr>\n      <th>17</th>\n      <td>3.0</td>\n      <td>LSCS</td>\n    </tr>\n    <tr>\n      <th>25</th>\n      <td>4.0</td>\n      <td>LSCS</td>\n    </tr>\n    <tr>\n      <th>33</th>\n      <td>5.0</td>\n      <td>LSCS</td>\n    </tr>\n    <tr>\n      <th>...</th>\n      <td>...</td>\n      <td>...</td>\n    </tr>\n    <tr>\n      <th>666</th>\n      <td>91.0</td>\n      <td>LSCS</td>\n    </tr>\n    <tr>\n      <th>673</th>\n      <td>92.0</td>\n      <td>NVD</td>\n    </tr>\n    <tr>\n      <th>681</th>\n      <td>93.0</td>\n      <td>NVD</td>\n    </tr>\n    <tr>\n      <th>689</th>\n      <td>94.0</td>\n      <td>LSCS</td>\n    </tr>\n    <tr>\n      <th>697</th>\n      <td>95.0</td>\n      <td>LSCS</td>\n    </tr>\n  </tbody>\n</table>\n<p>95 rows × 2 columns</p>\n</div>"
     },
     "execution_count": 256,
     "metadata": {},
     "output_type": "execute_result"
    }
   ],
   "source": [
    "# create target variable\n",
    "target_df = df_[~df_['METHOD-VD/CS'].isnull()][['SL.NO','METHOD-VD/CS']].drop_duplicates()\n",
    "target_df"
   ],
   "metadata": {
    "collapsed": false,
    "pycharm": {
     "name": "#%%\n"
    }
   }
  },
  {
   "cell_type": "code",
   "execution_count": 263,
   "outputs": [],
   "source": [
    "def check_duplicates(df) :\n",
    "    print(type(df),df.shape)\n",
    "    assert df['SL.NO'].shape[0] ==  df['SL.NO'].nunique(), 'duplicate found'"
   ],
   "metadata": {
    "collapsed": false,
    "pycharm": {
     "name": "#%%\n"
    }
   }
  },
  {
   "cell_type": "code",
   "execution_count": 264,
   "outputs": [
    {
     "name": "stdout",
     "output_type": "stream",
     "text": [
      "<class 'pandas.core.frame.DataFrame'> (95, 2)\n",
      "<class 'pandas.core.frame.DataFrame'> (95, 2)\n",
      "<class 'pandas.core.frame.DataFrame'> (95, 2)\n",
      "<class 'pandas.core.frame.DataFrame'> (95, 2)\n",
      "<class 'pandas.core.frame.DataFrame'> (95, 2)\n",
      "<class 'pandas.core.frame.DataFrame'> (95, 2)\n",
      "<class 'pandas.core.frame.DataFrame'> (95, 2)\n",
      "<class 'pandas.core.frame.DataFrame'> (93, 5)\n",
      "<class 'pandas.core.frame.DataFrame'> (94, 2)\n",
      "<class 'pandas.core.frame.DataFrame'> (95, 2)\n"
     ]
    }
   ],
   "source": [
    "for dataset  in [df_1,df_2,df_3,df_5,df_6,df_7,df_8,df_9,df_10,target_df] :\n",
    " check_duplicates(dataset)"
   ],
   "metadata": {
    "collapsed": false,
    "pycharm": {
     "name": "#%%\n"
    }
   }
  },
  {
   "cell_type": "code",
   "execution_count": 268,
   "outputs": [
    {
     "name": "stdout",
     "output_type": "stream",
     "text": [
      "(95, 14)\n",
      "SL.NO               0\n",
      "hight-             39\n",
      "kg                 39\n",
      "LMP                27\n",
      "EDD                 2\n",
      "INDICATION          0\n",
      "DIAGNOSIS           0\n",
      "USG                 0\n",
      "HB                  6\n",
      "BP                  2\n",
      "         HHH       31\n",
      "           B -G    31\n",
      "GA                  1\n",
      "METHOD-VD/CS        0\n",
      "dtype: int64\n"
     ]
    },
    {
     "data": {
      "text/plain": "    sl_no      height   kg           lmp           edd          indication  \\\n0     1.0  hight-152C   65   LMP-31.3.20  EDD-06.01.21        [PREV  LSCS]   \n1     2.0  hight-152C   65  LMP-15.04.20  EDD-22.01.21                  []   \n2     3.0         NaN  NaN           NaN  EDD-11.01.21               [CPD]   \n3     4.0         NaN  NaN   LMP-5.04.20  EDD-12.01.21         [PREV LSCS]   \n4     5.0         NaN  NaN  LMP-29.03.20  EDD-05.01.21               [CPD]   \n..    ...         ...  ...           ...           ...                 ...   \n90   91.0         NaN  NaN           NaN   EDD-30.1.21  [OLIGOHYDRAMNIOUS]   \n91   92.0   hight-147   64   LMP-22.4.20   EDD-29.1.21                  []   \n92   93.0   hight-150   60   LMP-31.7.20    EDD-7.5.21                  []   \n93   94.0   hight-150   68   LMP-4.05.20  EDD-11.02.21               [CPD]   \n94   95.0   hight-153   60  LMP-24.05.20   EDD-12.6.21          [IVF TWIN]   \n\n                                            diagnosis  \\\n0   [G5P2L2A2 AT 33 WKS  WITH PREV LSCS FOR SAFE C...   \n1   [PRIMI GRAVIDA AT 36 WKS 6 DAYS POG WITH CHOLE...   \n2   [G4P1L1A2 WITH HYPOTHYRAIDISIM WITH APLA + VE ...   \n3   [G2P1L1 AT 38 WKS 4 DAYS  POG WITH PREV LSCS I...   \n4   [PRIMI GRAVIDA AT 38 WKS POG WITH GDM WITH HYP...   \n..                                                ...   \n90  [PRIMI GRAVIDA AT 39 WKS 6 DAYS POG WITH OLIGO...   \n91     [PRIMI GRAVIDA AT 40 WKS 1 DAYS POG WITH PROM]   \n92     [G2A1 AT 29 WKS POG IN PRE TERM LATENT LABOUR]   \n93  [PRIMI GRAVIDA AT 38 WKS 4 DAYS POG IN LATENT ...   \n94  [PRIMI GRAVIDA AT 36 WKS 5 DAYS WITH IVF CONCE...   \n\n                                                  usg     hb      bp  \\\n0   [GA- 35 WKS 5 DAYS , E.F.W- 2612 +_381 GMS, FH...    9.9  110/70   \n1   [SINGLE LIVE FETUS IN CEPHALIC PRESENTATION . ...   13.7  110/70   \n2                                                  []   10.6  110/80   \n3   [SINGLE LIVE FETUS IN CEPHALIC PRESENTATION . ...  11.04  110/70   \n4   [SINGLE LIVE FETUS IN CEPHALIC PRSENTATION . G...   10.4  110/70   \n..                                                ...    ...     ...   \n90                                                 []   11.7  110/70   \n91  [SINGLE LIVE INTRAUTERINE FETUS IN CEPHALIC PR...    NaN  110/80   \n92  [SINGLE LIVE INTRAUTERINE FETUS IN CEPHALIC PR...   10.4  110/70   \n93  [SINGLE LIVE INTRAUTERINE FETUS IN CEPHALIC PR...    8.6  110/80   \n94  [GRAVIDA UTERUS WITH TWIN LIVE FETUS TWIN-1- C...   10.5  110/80   \n\n             hhh       bg  ga delivery_mode  \n0   NO- REACTIVE   B + VE  39          LSCS  \n1   NO- REACTIVE  AB + VE  36          LSCS  \n2            NaN      NaN  38          LSCS  \n3   NO- REACTIVE   A + VE  38          LSCS  \n4            NaN      NaN  38          LSCS  \n..           ...      ...  ..           ...  \n90           NaN      NaN  39          LSCS  \n91  NO- REACTIVE   B + VE  40           NVD  \n92  NO- REACTIVE  AB + VE  25           NVD  \n93  NO- REACTIVE   B + VE  38          LSCS  \n94  NO- REACTIVE   O + VE  36          LSCS  \n\n[95 rows x 14 columns]",
      "text/html": "<div>\n<style scoped>\n    .dataframe tbody tr th:only-of-type {\n        vertical-align: middle;\n    }\n\n    .dataframe tbody tr th {\n        vertical-align: top;\n    }\n\n    .dataframe thead th {\n        text-align: right;\n    }\n</style>\n<table border=\"1\" class=\"dataframe\">\n  <thead>\n    <tr style=\"text-align: right;\">\n      <th></th>\n      <th>sl_no</th>\n      <th>height</th>\n      <th>kg</th>\n      <th>lmp</th>\n      <th>edd</th>\n      <th>indication</th>\n      <th>diagnosis</th>\n      <th>usg</th>\n      <th>hb</th>\n      <th>bp</th>\n      <th>hhh</th>\n      <th>bg</th>\n      <th>ga</th>\n      <th>delivery_mode</th>\n    </tr>\n  </thead>\n  <tbody>\n    <tr>\n      <th>0</th>\n      <td>1.0</td>\n      <td>hight-152C</td>\n      <td>65</td>\n      <td>LMP-31.3.20</td>\n      <td>EDD-06.01.21</td>\n      <td>[PREV  LSCS]</td>\n      <td>[G5P2L2A2 AT 33 WKS  WITH PREV LSCS FOR SAFE C...</td>\n      <td>[GA- 35 WKS 5 DAYS , E.F.W- 2612 +_381 GMS, FH...</td>\n      <td>9.9</td>\n      <td>110/70</td>\n      <td>NO- REACTIVE</td>\n      <td>B + VE</td>\n      <td>39</td>\n      <td>LSCS</td>\n    </tr>\n    <tr>\n      <th>1</th>\n      <td>2.0</td>\n      <td>hight-152C</td>\n      <td>65</td>\n      <td>LMP-15.04.20</td>\n      <td>EDD-22.01.21</td>\n      <td>[]</td>\n      <td>[PRIMI GRAVIDA AT 36 WKS 6 DAYS POG WITH CHOLE...</td>\n      <td>[SINGLE LIVE FETUS IN CEPHALIC PRESENTATION . ...</td>\n      <td>13.7</td>\n      <td>110/70</td>\n      <td>NO- REACTIVE</td>\n      <td>AB + VE</td>\n      <td>36</td>\n      <td>LSCS</td>\n    </tr>\n    <tr>\n      <th>2</th>\n      <td>3.0</td>\n      <td>NaN</td>\n      <td>NaN</td>\n      <td>NaN</td>\n      <td>EDD-11.01.21</td>\n      <td>[CPD]</td>\n      <td>[G4P1L1A2 WITH HYPOTHYRAIDISIM WITH APLA + VE ...</td>\n      <td>[]</td>\n      <td>10.6</td>\n      <td>110/80</td>\n      <td>NaN</td>\n      <td>NaN</td>\n      <td>38</td>\n      <td>LSCS</td>\n    </tr>\n    <tr>\n      <th>3</th>\n      <td>4.0</td>\n      <td>NaN</td>\n      <td>NaN</td>\n      <td>LMP-5.04.20</td>\n      <td>EDD-12.01.21</td>\n      <td>[PREV LSCS]</td>\n      <td>[G2P1L1 AT 38 WKS 4 DAYS  POG WITH PREV LSCS I...</td>\n      <td>[SINGLE LIVE FETUS IN CEPHALIC PRESENTATION . ...</td>\n      <td>11.04</td>\n      <td>110/70</td>\n      <td>NO- REACTIVE</td>\n      <td>A + VE</td>\n      <td>38</td>\n      <td>LSCS</td>\n    </tr>\n    <tr>\n      <th>4</th>\n      <td>5.0</td>\n      <td>NaN</td>\n      <td>NaN</td>\n      <td>LMP-29.03.20</td>\n      <td>EDD-05.01.21</td>\n      <td>[CPD]</td>\n      <td>[PRIMI GRAVIDA AT 38 WKS POG WITH GDM WITH HYP...</td>\n      <td>[SINGLE LIVE FETUS IN CEPHALIC PRSENTATION . G...</td>\n      <td>10.4</td>\n      <td>110/70</td>\n      <td>NaN</td>\n      <td>NaN</td>\n      <td>38</td>\n      <td>LSCS</td>\n    </tr>\n    <tr>\n      <th>...</th>\n      <td>...</td>\n      <td>...</td>\n      <td>...</td>\n      <td>...</td>\n      <td>...</td>\n      <td>...</td>\n      <td>...</td>\n      <td>...</td>\n      <td>...</td>\n      <td>...</td>\n      <td>...</td>\n      <td>...</td>\n      <td>...</td>\n      <td>...</td>\n    </tr>\n    <tr>\n      <th>90</th>\n      <td>91.0</td>\n      <td>NaN</td>\n      <td>NaN</td>\n      <td>NaN</td>\n      <td>EDD-30.1.21</td>\n      <td>[OLIGOHYDRAMNIOUS]</td>\n      <td>[PRIMI GRAVIDA AT 39 WKS 6 DAYS POG WITH OLIGO...</td>\n      <td>[]</td>\n      <td>11.7</td>\n      <td>110/70</td>\n      <td>NaN</td>\n      <td>NaN</td>\n      <td>39</td>\n      <td>LSCS</td>\n    </tr>\n    <tr>\n      <th>91</th>\n      <td>92.0</td>\n      <td>hight-147</td>\n      <td>64</td>\n      <td>LMP-22.4.20</td>\n      <td>EDD-29.1.21</td>\n      <td>[]</td>\n      <td>[PRIMI GRAVIDA AT 40 WKS 1 DAYS POG WITH PROM]</td>\n      <td>[SINGLE LIVE INTRAUTERINE FETUS IN CEPHALIC PR...</td>\n      <td>NaN</td>\n      <td>110/80</td>\n      <td>NO- REACTIVE</td>\n      <td>B + VE</td>\n      <td>40</td>\n      <td>NVD</td>\n    </tr>\n    <tr>\n      <th>92</th>\n      <td>93.0</td>\n      <td>hight-150</td>\n      <td>60</td>\n      <td>LMP-31.7.20</td>\n      <td>EDD-7.5.21</td>\n      <td>[]</td>\n      <td>[G2A1 AT 29 WKS POG IN PRE TERM LATENT LABOUR]</td>\n      <td>[SINGLE LIVE INTRAUTERINE FETUS IN CEPHALIC PR...</td>\n      <td>10.4</td>\n      <td>110/70</td>\n      <td>NO- REACTIVE</td>\n      <td>AB + VE</td>\n      <td>25</td>\n      <td>NVD</td>\n    </tr>\n    <tr>\n      <th>93</th>\n      <td>94.0</td>\n      <td>hight-150</td>\n      <td>68</td>\n      <td>LMP-4.05.20</td>\n      <td>EDD-11.02.21</td>\n      <td>[CPD]</td>\n      <td>[PRIMI GRAVIDA AT 38 WKS 4 DAYS POG IN LATENT ...</td>\n      <td>[SINGLE LIVE INTRAUTERINE FETUS IN CEPHALIC PR...</td>\n      <td>8.6</td>\n      <td>110/80</td>\n      <td>NO- REACTIVE</td>\n      <td>B + VE</td>\n      <td>38</td>\n      <td>LSCS</td>\n    </tr>\n    <tr>\n      <th>94</th>\n      <td>95.0</td>\n      <td>hight-153</td>\n      <td>60</td>\n      <td>LMP-24.05.20</td>\n      <td>EDD-12.6.21</td>\n      <td>[IVF TWIN]</td>\n      <td>[PRIMI GRAVIDA AT 36 WKS 5 DAYS WITH IVF CONCE...</td>\n      <td>[GRAVIDA UTERUS WITH TWIN LIVE FETUS TWIN-1- C...</td>\n      <td>10.5</td>\n      <td>110/80</td>\n      <td>NO- REACTIVE</td>\n      <td>O + VE</td>\n      <td>36</td>\n      <td>LSCS</td>\n    </tr>\n  </tbody>\n</table>\n<p>95 rows × 14 columns</p>\n</div>"
     },
     "execution_count": 268,
     "metadata": {},
     "output_type": "execute_result"
    }
   ],
   "source": [
    "# merge all dataframes:\n",
    "\n",
    "from functools import reduce\n",
    "import pandas as pd\n",
    "dataset=[df_1,df_2,df_3,df_5,df_6,df_7,df_8,df_9,df_10,target_df]\n",
    "# Merge all DataFrames on 'SL.NO'\n",
    "merged_df = reduce(lambda left, right: pd.merge(left, right, on='SL.NO', how='left'), dataset)\n",
    "\n",
    "print(merged_df.shape)\n",
    "print(merged_df.isna().sum())\n",
    "merged_df = merged_df.rename(columns=\n",
    "    {\n",
    "        'SL.NO':'sl_no',\n",
    "        'hight-':'height',\n",
    "        'kg':'kg',\n",
    "        'LMP':'lmp',\n",
    "        'EDD':'edd',\n",
    "        'INDICATION':'indication',\n",
    "        'DIAGNOSIS':'diagnosis',\n",
    "        'USG':'usg',\n",
    "        'HB':'hb',\n",
    "        'BP':'bp',\n",
    "        '         HHH':'hhh',\n",
    "        '           B -G':'bg',\n",
    "        'GA':'ga',\n",
    "        'METHOD-VD/CS':'delivery_mode'\n",
    "    }\n",
    "\n",
    ")\n",
    "merged_df"
   ],
   "metadata": {
    "collapsed": false,
    "pycharm": {
     "name": "#%%\n"
    }
   }
  },
  {
   "cell_type": "code",
   "execution_count": 269,
   "outputs": [],
   "source": [
    "merged_df.to_csv('jan_2021_deliver_mode.csv',index=False)"
   ],
   "metadata": {
    "collapsed": false,
    "pycharm": {
     "name": "#%%\n"
    }
   }
  },
  {
   "cell_type": "code",
   "execution_count": null,
   "outputs": [],
   "source": [],
   "metadata": {
    "collapsed": false,
    "pycharm": {
     "name": "#%%\n"
    }
   }
  },
  {
   "cell_type": "code",
   "execution_count": null,
   "outputs": [],
   "source": [],
   "metadata": {
    "collapsed": false,
    "pycharm": {
     "name": "#%%\n"
    }
   }
  },
  {
   "cell_type": "markdown",
   "source": [
    "#### Global Data Extraction & Transformation Pipeline"
   ],
   "metadata": {
    "collapsed": false,
    "pycharm": {
     "name": "#%% md\n"
    }
   }
  },
  {
   "cell_type": "code",
   "execution_count": 272,
   "outputs": [
    {
     "name": "stdout",
     "output_type": "stream",
     "text": [
      "['APRIL-2021.xlsx', 'MAY-2021.xlsx', 'JAN-2021.xlsx', 'AUG-2021.xlsx', 'JULY-2021.xlsx', 'JUNE-2021.xlsx', 'FEB-2021.xlsx', 'SEP-2021.xlsx', 'MARCH-2021.xlsx']\n"
     ]
    }
   ],
   "source": [
    "# Define the path to your 'results' folder\n",
    "folder_path = os.getcwd()\n",
    "\n",
    "# Create a pattern to match all .xlsx files\n",
    "pattern = os.path.join(folder_path, '*.xlsx')\n",
    "\n",
    "# Use glob.glob to find all files in the folder that match the pattern\n",
    "xlsx_files = glob.glob(pattern)\n",
    "\n",
    "# Now xlsx_files contains a list of full file paths. If you want just the filenames, you can do:\n",
    "xlsx_filenames = [os.path.basename(file) for file in xlsx_files]\n",
    "\n",
    "print(xlsx_filenames)\n"
   ],
   "metadata": {
    "collapsed": false,
    "pycharm": {
     "name": "#%%\n"
    }
   }
  },
  {
   "cell_type": "code",
   "execution_count": 475,
   "outputs": [],
   "source": [
    "def extract_keyword(df,col,keyword) :\n",
    "    # Reinitialize the list to store the data for weight extraction\n",
    "    extracted_data = []\n",
    "\n",
    "    # Iterate through the DataFrame\n",
    "    for _, row in df.iterrows():\n",
    "        # Get the current 'SL.NO'\n",
    "        current_sl_no = row['SL.NO']\n",
    "        # If the 'DATE' column contains 'kg', extract the weight value\n",
    "        if pd.notnull(row[col]) and keyword in str(row[col]):\n",
    "            current_lmp = row[col].split(' ')[0] # Assuming the format is 'XX kg'\n",
    "            # Append the SL.NO and weight to the list\n",
    "            extracted_data.append({'SL.NO': current_sl_no, keyword: current_lmp})\n",
    "\n",
    "    # Convert the list of dictionaries to a DataFrame\n",
    "    keyword_df = pd.DataFrame(extracted_data)\n",
    "\n",
    "    # Drop duplicate rows (if any) to have unique 'SL.NO' - 'weight' pairs\n",
    "    # print(keyword_df)\n",
    "    keyword_df = keyword_df.drop_duplicates()\n",
    "\n",
    "    # Create a DataFrame with unique 'SL.NO' from the original DataFrame\n",
    "    sl_no_df = df_[['SL.NO']].drop_duplicates()\n",
    "\n",
    "    # Merge this with the extracted weight data\n",
    "    # Use an outer join to ensure all 'SL.NO' are included, even if there's no corresponding 'weight'\n",
    "\n",
    "    complete_keyword_df = sl_no_df.merge(keyword_df, on='SL.NO', how='left')\n",
    "    return complete_keyword_df\n",
    "\n",
    "    # complete_lmp_df['lmp']= complete_lmp_df['lmp'].str.split('-').str[1]\n",
    "\n",
    "\n",
    "def remove_nans(lst):\n",
    "    return [x for x in lst if pd.notnull(x)]\n",
    "\n",
    "\n",
    "def get_first_element(lst):\n",
    "    if isinstance(lst, list) and lst:\n",
    "        return lst[0]\n",
    "    else:\n",
    "        return None\n",
    "\n",
    "columns = df.columns\n",
    "\n",
    "def f_global_data_pref(filename,columns):\n",
    "    '''\n",
    "    function to prepare global dataframe with initial features\n",
    "    :param filename: list of xlsx files\n",
    "    :return: dataframe\n",
    "    '''\n",
    "    print(filename)\n",
    "    df = pd.read_excel(filename)\n",
    "    df.columns = columns\n",
    "    print(df.shape)\n",
    "\n",
    "    column_terminate = 19\n",
    "    row_terminate = 2\n",
    "\n",
    "    df_ = df.iloc[row_terminate:,:column_terminate]\n",
    "    for col in df_.columns.tolist() :\n",
    "        df_[col] = df_[col].astype(str)\n",
    "\n",
    "    df_['SL.NO'] = pd.to_numeric(df_['SL.NO'], errors='coerce')\n",
    "    df_['AGE'] = df_['AGE'].str.extract(r'(\\d+)').astype(float)\n",
    "    # Forward fill the 'SL.NO' column again\n",
    "    df_['SL.NO'] = df_['SL.NO'].ffill()\n",
    "\n",
    "    df_1= extract_keyword(df_,'REGISTRATION','hight-')\n",
    "    df_1['hight-'] = df_1['hight-'].str.extract(r'(\\d+)').astype(float)\n",
    "\n",
    "    df_2= extract_keyword(df_,'DATE','kg')\n",
    "    df_2['kg'] = df_2['kg'].str.extract(r'(\\d+)').astype(float)\n",
    "\n",
    "    df_3= extract_keyword(df_,'EDD/GA','LMP')\n",
    "    df_3['LMP']=df_3['LMP'].str.split('-').str[1]\n",
    "\n",
    "    df_4 = df_[['SL.NO','AGE']].drop_duplicates()\n",
    "    df_4 = df_4.query(\"AGE != 'NaN'\")\n",
    "\n",
    "    print(df_4.head())\n",
    "    # df_4= extract_keyword(df_,'EDD/GA','GA- ')\n",
    "\n",
    "    df_5= extract_keyword(df_,'EDD/GA','EDD')\n",
    "    df_5['EDD']=df_5['EDD'].str.split('-').str[1]\n",
    "\n",
    "    # extract and combine diagnosis\n",
    "    df_6 =  df_[~df_['SL.NO'].isnull()].groupby(['SL.NO']).agg({'INDICATION': list}).reset_index()\n",
    "    df_6['INDICATION'] = df_6['INDICATION'].apply(lambda x : remove_nans(x))\n",
    "\n",
    "    # extract and combine diagnosis\n",
    "    df_7 =  df_[~df_['SL.NO'].isnull()].groupby(['SL.NO']).agg({'DIAGNOSIS': list}).reset_index()\n",
    "    df_7['DIAGNOSIS'] = df_7['DIAGNOSIS'].apply(lambda x : remove_nans(x))\n",
    "\n",
    "    # create sonography diagnosis\n",
    "    df_8 = df_[~df_['SL.NO'].isnull()].groupby(['SL.NO']).agg({'                   USG': list}).reset_index()\n",
    "    df_8['USG'] = df_8['                   USG'].apply(lambda x: remove_nans(x))\n",
    "    df_8 = df_8.drop(columns='                   USG')\n",
    "\n",
    "    # additional parameters\n",
    "    df_9 = df_[['SL.NO', 'HB',\n",
    "                'BP', '         HHH', '           B -G']].drop_duplicates().dropna(how='all', subset = ['HB',\n",
    "                                                                                                  'BP', '         HHH', '           B -G'])\n",
    "    df_9 = df_9[~(df_9.HB=='nan')]\n",
    "\n",
    "    # GA Weeks\n",
    "    extracted_gw_data = []\n",
    "    for _, row in df_.iterrows():\n",
    "        # Get the current 'SL.NO'\n",
    "        current_sl_no = row['SL.NO']\n",
    "        # If the 'DATE' column contains 'kg', extract the weight value\n",
    "        if pd.notnull(row['EDD/GA']) and 'GA' in str(row['EDD/GA']):\n",
    "            current_lmp = re.findall(r'\\d+', row['EDD/GA'])  # Assuming the format is 'XX kg'\n",
    "            # Append the SL.NO and weight to the list\n",
    "            extracted_gw_data.append({'SL.NO': current_sl_no, 'GA': current_lmp})\n",
    "\n",
    "    # Convert the list of dictionaries to a DataFrame\n",
    "    gw_df = pd.DataFrame(extracted_gw_data)\n",
    "    gw_df['GA'] = gw_df['GA'].apply(get_first_element)\n",
    "\n",
    "    # Drop duplicate rows (if any) to have unique 'SL.NO' - 'weight' pairs\n",
    "    df_10 = gw_df.drop_duplicates()\n",
    "\n",
    "    # create target variable\n",
    "    target_df = df_[~((df_['METHOD-VD/CS'].isnull()) | (df_['METHOD-VD/CS']=='nan'))][['SL.NO','METHOD-VD/CS']].drop_duplicates()\n",
    "\n",
    "    # merge all dataframes:\n",
    "    dataset=[df_1,df_2,df_3,df_4,df_5,df_6,df_7,df_8,df_9,df_10,target_df]\n",
    "    # Merge all DataFrames on 'SL.NO'\n",
    "\n",
    "    merged_df = reduce(lambda left, right: pd.merge(left, right, on='SL.NO', how='left'), dataset)\n",
    "\n",
    "    # print(merged_df.isna().sum())\n",
    "    merged_df = merged_df.rename(columns=\n",
    "    {\n",
    "        'SL.NO':'sl_no',\n",
    "        'hight-':'height',\n",
    "        'AGE':'age',\n",
    "        'kg':'kg',\n",
    "        'LMP':'lmp',\n",
    "        'EDD':'edd',\n",
    "        'INDICATION':'indication',\n",
    "        'DIAGNOSIS':'diagnosis',\n",
    "        'USG':'usg',\n",
    "        'HB':'hb',\n",
    "        'BP':'bp',\n",
    "        '         HHH':'hhh',\n",
    "        '           B -G':'bg',\n",
    "        'GA':'ga_weeks',\n",
    "        'METHOD-VD/CS':'delivery_mode'\n",
    "    })\n",
    "    merged_df['filename'] = filename\n",
    "    print(merged_df.shape, merged_df['sl_no'].nunique())\n",
    "\n",
    "\n",
    "    print(f'data processed for :{filename}, final output : {merged_df.shape} ')\n",
    "    print()\n",
    "    print('---------------------')\n",
    "    return merged_df\n"
   ],
   "metadata": {
    "collapsed": false,
    "pycharm": {
     "name": "#%%\n"
    }
   }
  },
  {
   "cell_type": "code",
   "execution_count": 455,
   "outputs": [
    {
     "data": {
      "text/plain": "2      25.0\n3       NaN\n4       NaN\n5       NaN\n6       NaN\n       ... \n707     NaN\n708     NaN\n709     NaN\n710     NaN\n711     NaN\nName: AGE, Length: 710, dtype: float64"
     },
     "execution_count": 455,
     "metadata": {},
     "output_type": "execute_result"
    }
   ],
   "source": [
    "df_['AGE']"
   ],
   "metadata": {
    "collapsed": false,
    "pycharm": {
     "name": "#%%\n"
    }
   }
  },
  {
   "cell_type": "code",
   "execution_count": 476,
   "outputs": [
    {
     "name": "stdout",
     "output_type": "stream",
     "text": [
      "38\n",
      "APRIL-2021.xlsx\n",
      "(708, 38)\n",
      "    SL.NO   AGE\n",
      "2     NaN   NaN\n",
      "3     1.0  39.0\n",
      "4     1.0   NaN\n",
      "11    2.0  25.0\n",
      "12    2.0   NaN\n",
      "(194, 16) 92\n",
      "data processed for :APRIL-2021.xlsx, final output : (194, 16) \n",
      "\n",
      "---------------------\n",
      "MAY-2021.xlsx\n",
      "(779, 38)\n",
      "    SL.NO   AGE\n",
      "2     NaN   NaN\n",
      "3     1.0  26.0\n",
      "4     1.0   NaN\n",
      "9     2.0  21.0\n",
      "10    2.0   NaN\n",
      "(184, 16) 92\n",
      "data processed for :MAY-2021.xlsx, final output : (184, 16) \n",
      "\n",
      "---------------------\n",
      "JAN-2021.xlsx\n",
      "(703, 38)\n",
      "    SL.NO   AGE\n",
      "2     NaN   NaN\n",
      "3     1.0  34.0\n",
      "4     1.0   NaN\n",
      "10    2.0  28.0\n",
      "11    2.0   NaN\n",
      "(184, 16) 92\n",
      "data processed for :JAN-2021.xlsx, final output : (184, 16) \n",
      "\n",
      "---------------------\n",
      "AUG-2021.xlsx\n",
      "(694, 38)\n",
      "    SL.NO   AGE\n",
      "2     1.0  25.0\n",
      "3     1.0   NaN\n",
      "9     2.0  25.0\n",
      "10    2.0   NaN\n",
      "17    3.0  29.0\n",
      "(190, 16) 92\n",
      "data processed for :AUG-2021.xlsx, final output : (190, 16) \n",
      "\n",
      "---------------------\n",
      "JULY-2021.xlsx\n",
      "(530, 38)\n",
      "    SL.NO   AGE\n",
      "2     1.0  32.0\n",
      "3     1.0   NaN\n",
      "9     2.0  29.0\n",
      "10    2.0   NaN\n",
      "17    3.0  30.0\n",
      "(162, 16) 92\n",
      "data processed for :JULY-2021.xlsx, final output : (162, 16) \n",
      "\n",
      "---------------------\n",
      "JUNE-2021.xlsx\n",
      "(639, 38)\n",
      "    SL.NO   AGE\n",
      "2     1.0  24.0\n",
      "3     1.0   NaN\n",
      "8     2.0  33.0\n",
      "9     2.0   NaN\n",
      "16    3.0  22.0\n",
      "(503, 16) 92\n",
      "data processed for :JUNE-2021.xlsx, final output : (503, 16) \n",
      "\n",
      "---------------------\n",
      "FEB-2021.xlsx\n",
      "(480, 38)\n",
      "    SL.NO   AGE\n",
      "2     NaN   NaN\n",
      "3     1.0  25.0\n",
      "4     1.0   NaN\n",
      "11    2.0  25.0\n",
      "12    2.0   NaN\n",
      "(182, 16) 92\n",
      "data processed for :FEB-2021.xlsx, final output : (182, 16) \n",
      "\n",
      "---------------------\n",
      "SEP-2021.xlsx\n",
      "(2639, 38)\n",
      "    SL.NO   AGE\n",
      "2     1.0  29.0\n",
      "3     1.0   NaN\n",
      "9     2.0  25.0\n",
      "10    2.0   NaN\n",
      "17    3.0  22.0\n",
      "(188, 16) 92\n",
      "data processed for :SEP-2021.xlsx, final output : (188, 16) \n",
      "\n",
      "---------------------\n",
      "MARCH-2021.xlsx\n",
      "(561, 38)\n",
      "    SL.NO   AGE\n",
      "2     NaN   NaN\n",
      "3     1.0  33.0\n",
      "4     1.0   NaN\n",
      "10    2.0  31.0\n",
      "11    2.0   NaN\n",
      "(153, 16) 92\n",
      "data processed for :MARCH-2021.xlsx, final output : (153, 16) \n",
      "\n",
      "---------------------\n",
      "output dataset shape:  (1940, 16)\n"
     ]
    }
   ],
   "source": [
    "columns=[                             'SL.NO',\n",
    "                                      'DATE',\n",
    "                                      'REGISTRATION',\n",
    "                                      '    NAME  &  ADDRESS',\n",
    "                                      'AGE',\n",
    "                                      'SES/BPL/APL',\n",
    "                                      'EDUCATION',\n",
    "                                      'OCCUPATION',\n",
    "                                      'REFRAL',\n",
    "                                      'EDD/GA',\n",
    "                                      'DIAGNOSIS',\n",
    "                                      'METHOD-VD/CS',\n",
    "                                      'ELECTIVE/EMERGENCY',\n",
    "                                      'INDICATION',\n",
    "                                      'HB',\n",
    "                                      'BP',\n",
    "                                      '         HHH',\n",
    "                                      '           B -G',\n",
    "                                      '                   USG',\n",
    "                                      'DRS NAME & UNIT',\n",
    "                                      'BABY--TOB',\n",
    "                                      'DOB',\n",
    "                                      'SEX',\n",
    "                                      'WT',\n",
    "                                      'APGAR',\n",
    "                                      'NICU',\n",
    "                                      'INDICATION',\n",
    "                                      'TRANS-OUT-BABY',\n",
    "                                      'INDUCTION',\n",
    "                                      ' DT  OF   DISCHARGE',\n",
    "                                      'MOTHER CONDITION',\n",
    "                                      'B/O   IP NO',\n",
    "                                      'GDM',\n",
    "                                      'THYROIED',\n",
    "                                      'RH-VE',\n",
    "                                      'OTHER',\n",
    "                                      'BLOOD TRANSFUSE/ RECIVED, RFF, RDP',\n",
    "                                      'CLOT/UN CLOT'\n",
    "                                      ]\n",
    "\n",
    "print(len(columns))\n",
    "dataframes = []\n",
    "\n",
    "for filename in xlsx_filenames:\n",
    "    temp = f_global_data_pref(filename,columns)\n",
    "    dataframes.append(temp)\n",
    "\n",
    "df_delivery = pd.concat(dataframes,ignore_index=True)\n",
    "df_delivery = df_delivery.reset_index().rename(columns={'index':'patient_id'}).drop(columns='sl_no')\n",
    "\n",
    "print('output dataset shape: ',df_delivery.shape)"
   ],
   "metadata": {
    "collapsed": false,
    "pycharm": {
     "name": "#%%\n"
    }
   }
  },
  {
   "cell_type": "code",
   "execution_count": 426,
   "outputs": [],
   "source": [
    "df_delivery.to_csv('df_delivery_mode_02_24.csv',index=False)"
   ],
   "metadata": {
    "collapsed": false,
    "pycharm": {
     "name": "#%%\n"
    }
   }
  },
  {
   "cell_type": "code",
   "execution_count": 416,
   "outputs": [],
   "source": [
    "import datetime\n",
    "\n",
    "# df_delivery['lmp'] = pd.to_datetime(df_delivery['lmp'])\n",
    "# df_delivery['edd'] = pd.to_datetime(df_delivery['edd'])\n",
    "\n",
    "df_delivery['lmp']=df_delivery['lmp'].astype('str')"
   ],
   "metadata": {
    "collapsed": false,
    "pycharm": {
     "name": "#%%\n"
    }
   }
  },
  {
   "cell_type": "code",
   "execution_count": 478,
   "outputs": [
    {
     "data": {
      "text/plain": "      patient_id  height    kg      lmp   age      edd  \\\n0              0   147.0  77.0   9.7.20  39.0  16.4.21   \n1              1   147.0  77.0   9.7.20   NaN  16.4.21   \n2              2   152.0  72.0  29.6.20  25.0   5.4.21   \n3              3   152.0  72.0  29.6.20   NaN   5.4.21   \n4              4   153.0  70.0  17.7.20  32.0  24.4.21   \n...          ...     ...   ...      ...   ...      ...   \n1935        1935     NaN   NaN      NaN   NaN      NaN   \n1936        1936     NaN   NaN      NaN   NaN      NaN   \n1937        1937     NaN   NaN      NaN   NaN      NaN   \n1938        1938     NaN   NaN      NaN   NaN      NaN   \n1939        1939     NaN   NaN      NaN   NaN      NaN   \n\n                                             indication  \\\n0     [PREV LSCS &, UN CONTROL B/P, nan, nan, nan, n...   \n1     [PREV LSCS &, UN CONTROL B/P, nan, nan, nan, n...   \n2              [nan, nan, nan, nan, nan, nan, nan, nan]   \n3              [nan, nan, nan, nan, nan, nan, nan, nan]   \n4            [PREV LSCS , nan, nan, nan, nan, nan, nan]   \n...                                                 ...   \n1935                                                NaN   \n1936                                                NaN   \n1937                                                NaN   \n1938                                                NaN   \n1939                                                NaN   \n\n                                              diagnosis  \\\n0     [G2P1L1 WITH CHRONIC WITH HTN WITH PREV LSCS, ...   \n1     [G2P1L1 WITH CHRONIC WITH HTN WITH PREV LSCS, ...   \n2     [G3P1L1A1 AT 39 WKS 4 DAYS POG IN LATENT LABOU...   \n3     [G3P1L1A1 AT 39 WKS 4 DAYS POG IN LATENT LABOU...   \n4     [G2P1L1 AT 36 WKS 5 DAYS POG WITH PREV LSCS WI...   \n...                                                 ...   \n1935                                                NaN   \n1936                                                NaN   \n1937                                                NaN   \n1938                                                NaN   \n1939                                                NaN   \n\n                                                    usg    hb      bp  \\\n0     [GA-36 WKS 4 DAYS , E.F.W- 3044 +_457 GMS, FHR...  10.6  110/70   \n1     [GA-36 WKS 4 DAYS , E.F.W- 3044 +_457 GMS, FHR...  10.6  110/70   \n2     [SINGLE LIVE FETUS IN CEPHALIC PRESENTATION . ...  14.3  110/70   \n3     [SINGLE LIVE FETUS IN CEPHALIC PRESENTATION . ...  14.3  110/70   \n4     [GA- 36 WKS 1 DAYS , E.F.W- 2861 +_429 GMS, FH...  11.6  110/70   \n...                                                 ...   ...     ...   \n1935                                                NaN   NaN     NaN   \n1936                                                NaN   NaN     NaN   \n1937                                                NaN   NaN     NaN   \n1938                                                NaN   NaN     NaN   \n1939                                                NaN   NaN     NaN   \n\n               hhh      bg ga_weeks delivery_mode         filename  \n0     NO- REACTIVE  O + VE       37          LSCS  APRIL-2021.xlsx  \n1     NO- REACTIVE  O + VE       37          LSCS  APRIL-2021.xlsx  \n2     NO- REACTIVE  B + VE       39           NVD  APRIL-2021.xlsx  \n3     NO- REACTIVE  B + VE       39           NVD  APRIL-2021.xlsx  \n4     NO- REACTIVE  B + VE       36          LSCS  APRIL-2021.xlsx  \n...            ...     ...      ...           ...              ...  \n1935           NaN     NaN      NaN           NaN  MARCH-2021.xlsx  \n1936           NaN     NaN      NaN           NaN  MARCH-2021.xlsx  \n1937           NaN     NaN      NaN           NaN  MARCH-2021.xlsx  \n1938           NaN     NaN      NaN           NaN  MARCH-2021.xlsx  \n1939           NaN     NaN      NaN           NaN  MARCH-2021.xlsx  \n\n[1940 rows x 16 columns]",
      "text/html": "<div>\n<style scoped>\n    .dataframe tbody tr th:only-of-type {\n        vertical-align: middle;\n    }\n\n    .dataframe tbody tr th {\n        vertical-align: top;\n    }\n\n    .dataframe thead th {\n        text-align: right;\n    }\n</style>\n<table border=\"1\" class=\"dataframe\">\n  <thead>\n    <tr style=\"text-align: right;\">\n      <th></th>\n      <th>patient_id</th>\n      <th>height</th>\n      <th>kg</th>\n      <th>lmp</th>\n      <th>age</th>\n      <th>edd</th>\n      <th>indication</th>\n      <th>diagnosis</th>\n      <th>usg</th>\n      <th>hb</th>\n      <th>bp</th>\n      <th>hhh</th>\n      <th>bg</th>\n      <th>ga_weeks</th>\n      <th>delivery_mode</th>\n      <th>filename</th>\n    </tr>\n  </thead>\n  <tbody>\n    <tr>\n      <th>0</th>\n      <td>0</td>\n      <td>147.0</td>\n      <td>77.0</td>\n      <td>9.7.20</td>\n      <td>39.0</td>\n      <td>16.4.21</td>\n      <td>[PREV LSCS &amp;, UN CONTROL B/P, nan, nan, nan, n...</td>\n      <td>[G2P1L1 WITH CHRONIC WITH HTN WITH PREV LSCS, ...</td>\n      <td>[GA-36 WKS 4 DAYS , E.F.W- 3044 +_457 GMS, FHR...</td>\n      <td>10.6</td>\n      <td>110/70</td>\n      <td>NO- REACTIVE</td>\n      <td>O + VE</td>\n      <td>37</td>\n      <td>LSCS</td>\n      <td>APRIL-2021.xlsx</td>\n    </tr>\n    <tr>\n      <th>1</th>\n      <td>1</td>\n      <td>147.0</td>\n      <td>77.0</td>\n      <td>9.7.20</td>\n      <td>NaN</td>\n      <td>16.4.21</td>\n      <td>[PREV LSCS &amp;, UN CONTROL B/P, nan, nan, nan, n...</td>\n      <td>[G2P1L1 WITH CHRONIC WITH HTN WITH PREV LSCS, ...</td>\n      <td>[GA-36 WKS 4 DAYS , E.F.W- 3044 +_457 GMS, FHR...</td>\n      <td>10.6</td>\n      <td>110/70</td>\n      <td>NO- REACTIVE</td>\n      <td>O + VE</td>\n      <td>37</td>\n      <td>LSCS</td>\n      <td>APRIL-2021.xlsx</td>\n    </tr>\n    <tr>\n      <th>2</th>\n      <td>2</td>\n      <td>152.0</td>\n      <td>72.0</td>\n      <td>29.6.20</td>\n      <td>25.0</td>\n      <td>5.4.21</td>\n      <td>[nan, nan, nan, nan, nan, nan, nan, nan]</td>\n      <td>[G3P1L1A1 AT 39 WKS 4 DAYS POG IN LATENT LABOU...</td>\n      <td>[SINGLE LIVE FETUS IN CEPHALIC PRESENTATION . ...</td>\n      <td>14.3</td>\n      <td>110/70</td>\n      <td>NO- REACTIVE</td>\n      <td>B + VE</td>\n      <td>39</td>\n      <td>NVD</td>\n      <td>APRIL-2021.xlsx</td>\n    </tr>\n    <tr>\n      <th>3</th>\n      <td>3</td>\n      <td>152.0</td>\n      <td>72.0</td>\n      <td>29.6.20</td>\n      <td>NaN</td>\n      <td>5.4.21</td>\n      <td>[nan, nan, nan, nan, nan, nan, nan, nan]</td>\n      <td>[G3P1L1A1 AT 39 WKS 4 DAYS POG IN LATENT LABOU...</td>\n      <td>[SINGLE LIVE FETUS IN CEPHALIC PRESENTATION . ...</td>\n      <td>14.3</td>\n      <td>110/70</td>\n      <td>NO- REACTIVE</td>\n      <td>B + VE</td>\n      <td>39</td>\n      <td>NVD</td>\n      <td>APRIL-2021.xlsx</td>\n    </tr>\n    <tr>\n      <th>4</th>\n      <td>4</td>\n      <td>153.0</td>\n      <td>70.0</td>\n      <td>17.7.20</td>\n      <td>32.0</td>\n      <td>24.4.21</td>\n      <td>[PREV LSCS , nan, nan, nan, nan, nan, nan]</td>\n      <td>[G2P1L1 AT 36 WKS 5 DAYS POG WITH PREV LSCS WI...</td>\n      <td>[GA- 36 WKS 1 DAYS , E.F.W- 2861 +_429 GMS, FH...</td>\n      <td>11.6</td>\n      <td>110/70</td>\n      <td>NO- REACTIVE</td>\n      <td>B + VE</td>\n      <td>36</td>\n      <td>LSCS</td>\n      <td>APRIL-2021.xlsx</td>\n    </tr>\n    <tr>\n      <th>...</th>\n      <td>...</td>\n      <td>...</td>\n      <td>...</td>\n      <td>...</td>\n      <td>...</td>\n      <td>...</td>\n      <td>...</td>\n      <td>...</td>\n      <td>...</td>\n      <td>...</td>\n      <td>...</td>\n      <td>...</td>\n      <td>...</td>\n      <td>...</td>\n      <td>...</td>\n      <td>...</td>\n    </tr>\n    <tr>\n      <th>1935</th>\n      <td>1935</td>\n      <td>NaN</td>\n      <td>NaN</td>\n      <td>NaN</td>\n      <td>NaN</td>\n      <td>NaN</td>\n      <td>NaN</td>\n      <td>NaN</td>\n      <td>NaN</td>\n      <td>NaN</td>\n      <td>NaN</td>\n      <td>NaN</td>\n      <td>NaN</td>\n      <td>NaN</td>\n      <td>NaN</td>\n      <td>MARCH-2021.xlsx</td>\n    </tr>\n    <tr>\n      <th>1936</th>\n      <td>1936</td>\n      <td>NaN</td>\n      <td>NaN</td>\n      <td>NaN</td>\n      <td>NaN</td>\n      <td>NaN</td>\n      <td>NaN</td>\n      <td>NaN</td>\n      <td>NaN</td>\n      <td>NaN</td>\n      <td>NaN</td>\n      <td>NaN</td>\n      <td>NaN</td>\n      <td>NaN</td>\n      <td>NaN</td>\n      <td>MARCH-2021.xlsx</td>\n    </tr>\n    <tr>\n      <th>1937</th>\n      <td>1937</td>\n      <td>NaN</td>\n      <td>NaN</td>\n      <td>NaN</td>\n      <td>NaN</td>\n      <td>NaN</td>\n      <td>NaN</td>\n      <td>NaN</td>\n      <td>NaN</td>\n      <td>NaN</td>\n      <td>NaN</td>\n      <td>NaN</td>\n      <td>NaN</td>\n      <td>NaN</td>\n      <td>NaN</td>\n      <td>MARCH-2021.xlsx</td>\n    </tr>\n    <tr>\n      <th>1938</th>\n      <td>1938</td>\n      <td>NaN</td>\n      <td>NaN</td>\n      <td>NaN</td>\n      <td>NaN</td>\n      <td>NaN</td>\n      <td>NaN</td>\n      <td>NaN</td>\n      <td>NaN</td>\n      <td>NaN</td>\n      <td>NaN</td>\n      <td>NaN</td>\n      <td>NaN</td>\n      <td>NaN</td>\n      <td>NaN</td>\n      <td>MARCH-2021.xlsx</td>\n    </tr>\n    <tr>\n      <th>1939</th>\n      <td>1939</td>\n      <td>NaN</td>\n      <td>NaN</td>\n      <td>NaN</td>\n      <td>NaN</td>\n      <td>NaN</td>\n      <td>NaN</td>\n      <td>NaN</td>\n      <td>NaN</td>\n      <td>NaN</td>\n      <td>NaN</td>\n      <td>NaN</td>\n      <td>NaN</td>\n      <td>NaN</td>\n      <td>NaN</td>\n      <td>MARCH-2021.xlsx</td>\n    </tr>\n  </tbody>\n</table>\n<p>1940 rows × 16 columns</p>\n</div>"
     },
     "execution_count": 478,
     "metadata": {},
     "output_type": "execute_result"
    }
   ],
   "source": [
    "df_delivery.query(\"age != 'NaN'\")"
   ],
   "metadata": {
    "collapsed": false,
    "pycharm": {
     "name": "#%%\n"
    }
   }
  },
  {
   "cell_type": "code",
   "execution_count": 491,
   "outputs": [
    {
     "data": {
      "text/plain": "Empty DataFrame\nColumns: [patient_id, height, kg, lmp, age, edd, indication, diagnosis, usg, hb, bp, hhh, bg, ga_weeks, delivery_mode, filename]\nIndex: []",
      "text/html": "<div>\n<style scoped>\n    .dataframe tbody tr th:only-of-type {\n        vertical-align: middle;\n    }\n\n    .dataframe tbody tr th {\n        vertical-align: top;\n    }\n\n    .dataframe thead th {\n        text-align: right;\n    }\n</style>\n<table border=\"1\" class=\"dataframe\">\n  <thead>\n    <tr style=\"text-align: right;\">\n      <th></th>\n      <th>patient_id</th>\n      <th>height</th>\n      <th>kg</th>\n      <th>lmp</th>\n      <th>age</th>\n      <th>edd</th>\n      <th>indication</th>\n      <th>diagnosis</th>\n      <th>usg</th>\n      <th>hb</th>\n      <th>bp</th>\n      <th>hhh</th>\n      <th>bg</th>\n      <th>ga_weeks</th>\n      <th>delivery_mode</th>\n      <th>filename</th>\n    </tr>\n  </thead>\n  <tbody>\n  </tbody>\n</table>\n</div>"
     },
     "execution_count": 491,
     "metadata": {},
     "output_type": "execute_result"
    }
   ],
   "source": [
    "import numpy as np\n",
    "\n",
    "df_delivery[df_delivery['age']==np.NaN]\n"
   ],
   "metadata": {
    "collapsed": false,
    "pycharm": {
     "name": "#%%\n"
    }
   }
  },
  {
   "cell_type": "code",
   "execution_count": 442,
   "outputs": [
    {
     "data": {
      "text/plain": "     patient_id  height    kg      lmp      edd  \\\n0             0   147.0  77.0   7/9/20  4/16/21   \n1             1   152.0  72.0  6/29/20   4/5/21   \n2             2   153.0  70.0  7/17/20  4/24/21   \n3             3   152.0  72.0  6/24/20  3/31/21   \n4             4   163.0  82.0  6/20/20  3/27/21   \n..          ...     ...   ...      ...      ...   \n926         926     NaN   NaN      NaN      NaN   \n927         927     NaN   NaN      NaN      NaN   \n928         928     NaN   NaN      NaN      NaN   \n929         929     NaN   NaN      NaN      NaN   \n930         930     NaN   NaN      NaN      NaN   \n\n                                            indication  \\\n0    [PREV LSCS &, UN CONTROL B/P, nan, nan, nan, n...   \n1             [nan, nan, nan, nan, nan, nan, nan, nan]   \n2           [PREV LSCS , nan, nan, nan, nan, nan, nan]   \n3    [NON PROGRESS , OF LABOUR, nan, nan, nan, nan,...   \n4             [nan, nan, nan, nan, nan, nan, nan, nan]   \n..                                                 ...   \n926                                                NaN   \n927                                                NaN   \n928                                                NaN   \n929                                                NaN   \n930                                                NaN   \n\n                                             diagnosis  \\\n0    [G2P1L1 WITH CHRONIC WITH HTN WITH PREV LSCS, ...   \n1    [G3P1L1A1 AT 39 WKS 4 DAYS POG IN LATENT LABOU...   \n2    [G2P1L1 AT 36 WKS 5 DAYS POG WITH PREV LSCS WI...   \n3    [PRIMI AT 40 WKS 1 DAYS POG WITH OI CONCEPTION...   \n4    [PRIMI AT 39 WKS POG WITH  THROMBCY  WITH PEVI...   \n..                                                 ...   \n926                                                NaN   \n927                                                NaN   \n928                                                NaN   \n929                                                NaN   \n930                                                NaN   \n\n                                                   usg    hb      bp  \\\n0    [GA-36 WKS 4 DAYS , E.F.W- 3044 +_457 GMS, FHR...  10.6  110/70   \n1    [SINGLE LIVE FETUS IN CEPHALIC PRESENTATION . ...  14.3  110/70   \n2    [GA- 36 WKS 1 DAYS , E.F.W- 2861 +_429 GMS, FH...  11.6  110/70   \n3    [SINGLE LIVE INTRAUTERINE FETUS IN CEPHALIC PR...  12.1  110/70   \n4    [SINGLE LIVE FETUS IN CEPHALIC PRESENTATION . ...  11.9  110/70   \n..                                                 ...   ...     ...   \n926                                                NaN   NaN     NaN   \n927                                                NaN   NaN     NaN   \n928                                                NaN   NaN     NaN   \n929                                                NaN   NaN     NaN   \n930                                                NaN   NaN     NaN   \n\n              hhh      bg ga_weeks delivery_mode         filename  \n0    NO- REACTIVE  O + VE       37          LSCS  APRIL-2021.xlsx  \n1    NO- REACTIVE  B + VE       39           NVD  APRIL-2021.xlsx  \n2    NO- REACTIVE  B + VE       36          LSCS  APRIL-2021.xlsx  \n3    NO- REACTIVE  O + VE       40          LSCS  APRIL-2021.xlsx  \n4    NO- REACTIVE  B + VE       39          LSCS  APRIL-2021.xlsx  \n..            ...     ...      ...           ...              ...  \n926           NaN     NaN      NaN           NaN  MARCH-2021.xlsx  \n927           NaN     NaN      NaN           NaN  MARCH-2021.xlsx  \n928           NaN     NaN      NaN           NaN  MARCH-2021.xlsx  \n929           NaN     NaN      NaN           NaN  MARCH-2021.xlsx  \n930           NaN     NaN      NaN           NaN  MARCH-2021.xlsx  \n\n[931 rows x 15 columns]",
      "text/html": "<div>\n<style scoped>\n    .dataframe tbody tr th:only-of-type {\n        vertical-align: middle;\n    }\n\n    .dataframe tbody tr th {\n        vertical-align: top;\n    }\n\n    .dataframe thead th {\n        text-align: right;\n    }\n</style>\n<table border=\"1\" class=\"dataframe\">\n  <thead>\n    <tr style=\"text-align: right;\">\n      <th></th>\n      <th>patient_id</th>\n      <th>height</th>\n      <th>kg</th>\n      <th>lmp</th>\n      <th>edd</th>\n      <th>indication</th>\n      <th>diagnosis</th>\n      <th>usg</th>\n      <th>hb</th>\n      <th>bp</th>\n      <th>hhh</th>\n      <th>bg</th>\n      <th>ga_weeks</th>\n      <th>delivery_mode</th>\n      <th>filename</th>\n    </tr>\n  </thead>\n  <tbody>\n    <tr>\n      <th>0</th>\n      <td>0</td>\n      <td>147.0</td>\n      <td>77.0</td>\n      <td>7/9/20</td>\n      <td>4/16/21</td>\n      <td>[PREV LSCS &amp;, UN CONTROL B/P, nan, nan, nan, n...</td>\n      <td>[G2P1L1 WITH CHRONIC WITH HTN WITH PREV LSCS, ...</td>\n      <td>[GA-36 WKS 4 DAYS , E.F.W- 3044 +_457 GMS, FHR...</td>\n      <td>10.6</td>\n      <td>110/70</td>\n      <td>NO- REACTIVE</td>\n      <td>O + VE</td>\n      <td>37</td>\n      <td>LSCS</td>\n      <td>APRIL-2021.xlsx</td>\n    </tr>\n    <tr>\n      <th>1</th>\n      <td>1</td>\n      <td>152.0</td>\n      <td>72.0</td>\n      <td>6/29/20</td>\n      <td>4/5/21</td>\n      <td>[nan, nan, nan, nan, nan, nan, nan, nan]</td>\n      <td>[G3P1L1A1 AT 39 WKS 4 DAYS POG IN LATENT LABOU...</td>\n      <td>[SINGLE LIVE FETUS IN CEPHALIC PRESENTATION . ...</td>\n      <td>14.3</td>\n      <td>110/70</td>\n      <td>NO- REACTIVE</td>\n      <td>B + VE</td>\n      <td>39</td>\n      <td>NVD</td>\n      <td>APRIL-2021.xlsx</td>\n    </tr>\n    <tr>\n      <th>2</th>\n      <td>2</td>\n      <td>153.0</td>\n      <td>70.0</td>\n      <td>7/17/20</td>\n      <td>4/24/21</td>\n      <td>[PREV LSCS , nan, nan, nan, nan, nan, nan]</td>\n      <td>[G2P1L1 AT 36 WKS 5 DAYS POG WITH PREV LSCS WI...</td>\n      <td>[GA- 36 WKS 1 DAYS , E.F.W- 2861 +_429 GMS, FH...</td>\n      <td>11.6</td>\n      <td>110/70</td>\n      <td>NO- REACTIVE</td>\n      <td>B + VE</td>\n      <td>36</td>\n      <td>LSCS</td>\n      <td>APRIL-2021.xlsx</td>\n    </tr>\n    <tr>\n      <th>3</th>\n      <td>3</td>\n      <td>152.0</td>\n      <td>72.0</td>\n      <td>6/24/20</td>\n      <td>3/31/21</td>\n      <td>[NON PROGRESS , OF LABOUR, nan, nan, nan, nan,...</td>\n      <td>[PRIMI AT 40 WKS 1 DAYS POG WITH OI CONCEPTION...</td>\n      <td>[SINGLE LIVE INTRAUTERINE FETUS IN CEPHALIC PR...</td>\n      <td>12.1</td>\n      <td>110/70</td>\n      <td>NO- REACTIVE</td>\n      <td>O + VE</td>\n      <td>40</td>\n      <td>LSCS</td>\n      <td>APRIL-2021.xlsx</td>\n    </tr>\n    <tr>\n      <th>4</th>\n      <td>4</td>\n      <td>163.0</td>\n      <td>82.0</td>\n      <td>6/20/20</td>\n      <td>3/27/21</td>\n      <td>[nan, nan, nan, nan, nan, nan, nan, nan]</td>\n      <td>[PRIMI AT 39 WKS POG WITH  THROMBCY  WITH PEVI...</td>\n      <td>[SINGLE LIVE FETUS IN CEPHALIC PRESENTATION . ...</td>\n      <td>11.9</td>\n      <td>110/70</td>\n      <td>NO- REACTIVE</td>\n      <td>B + VE</td>\n      <td>39</td>\n      <td>LSCS</td>\n      <td>APRIL-2021.xlsx</td>\n    </tr>\n    <tr>\n      <th>...</th>\n      <td>...</td>\n      <td>...</td>\n      <td>...</td>\n      <td>...</td>\n      <td>...</td>\n      <td>...</td>\n      <td>...</td>\n      <td>...</td>\n      <td>...</td>\n      <td>...</td>\n      <td>...</td>\n      <td>...</td>\n      <td>...</td>\n      <td>...</td>\n      <td>...</td>\n    </tr>\n    <tr>\n      <th>926</th>\n      <td>926</td>\n      <td>NaN</td>\n      <td>NaN</td>\n      <td>NaN</td>\n      <td>NaN</td>\n      <td>NaN</td>\n      <td>NaN</td>\n      <td>NaN</td>\n      <td>NaN</td>\n      <td>NaN</td>\n      <td>NaN</td>\n      <td>NaN</td>\n      <td>NaN</td>\n      <td>NaN</td>\n      <td>MARCH-2021.xlsx</td>\n    </tr>\n    <tr>\n      <th>927</th>\n      <td>927</td>\n      <td>NaN</td>\n      <td>NaN</td>\n      <td>NaN</td>\n      <td>NaN</td>\n      <td>NaN</td>\n      <td>NaN</td>\n      <td>NaN</td>\n      <td>NaN</td>\n      <td>NaN</td>\n      <td>NaN</td>\n      <td>NaN</td>\n      <td>NaN</td>\n      <td>NaN</td>\n      <td>MARCH-2021.xlsx</td>\n    </tr>\n    <tr>\n      <th>928</th>\n      <td>928</td>\n      <td>NaN</td>\n      <td>NaN</td>\n      <td>NaN</td>\n      <td>NaN</td>\n      <td>NaN</td>\n      <td>NaN</td>\n      <td>NaN</td>\n      <td>NaN</td>\n      <td>NaN</td>\n      <td>NaN</td>\n      <td>NaN</td>\n      <td>NaN</td>\n      <td>NaN</td>\n      <td>MARCH-2021.xlsx</td>\n    </tr>\n    <tr>\n      <th>929</th>\n      <td>929</td>\n      <td>NaN</td>\n      <td>NaN</td>\n      <td>NaN</td>\n      <td>NaN</td>\n      <td>NaN</td>\n      <td>NaN</td>\n      <td>NaN</td>\n      <td>NaN</td>\n      <td>NaN</td>\n      <td>NaN</td>\n      <td>NaN</td>\n      <td>NaN</td>\n      <td>NaN</td>\n      <td>MARCH-2021.xlsx</td>\n    </tr>\n    <tr>\n      <th>930</th>\n      <td>930</td>\n      <td>NaN</td>\n      <td>NaN</td>\n      <td>NaN</td>\n      <td>NaN</td>\n      <td>NaN</td>\n      <td>NaN</td>\n      <td>NaN</td>\n      <td>NaN</td>\n      <td>NaN</td>\n      <td>NaN</td>\n      <td>NaN</td>\n      <td>NaN</td>\n      <td>NaN</td>\n      <td>MARCH-2021.xlsx</td>\n    </tr>\n  </tbody>\n</table>\n<p>931 rows × 15 columns</p>\n</div>"
     },
     "execution_count": 442,
     "metadata": {},
     "output_type": "execute_result"
    }
   ],
   "source": [
    "df_delivery['lmp']=df_delivery.lmp.str.split('.').str[1]+'/'+df_delivery.lmp.str.split('.').str[0]+'/'+df_delivery.lmp.str.split('.').str[2]\n",
    "df_delivery['edd']=df_delivery.edd.str.split('.').str[1]+'/'+df_delivery.edd.str.split('.').str[0]+'/'+df_delivery.edd.str.split('.').str[2]\n",
    "# df_delivery['lmp'] = pd.to_datetime(df_delivery['lmp'])\n",
    "df_delivery"
   ],
   "metadata": {
    "collapsed": false,
    "pycharm": {
     "name": "#%%\n"
    }
   }
  },
  {
   "cell_type": "code",
   "execution_count": 452,
   "outputs": [
    {
     "data": {
      "text/plain": "patient_id         0\nheight           461\nkg               462\nlmp              346\nedd              111\nindication        97\ndiagnosis         97\nusg               97\nhb               139\nbp               139\nhhh              139\nbg               139\nga_weeks         113\ndelivery_mode     97\nfilename           0\ndtype: int64"
     },
     "execution_count": 452,
     "metadata": {},
     "output_type": "execute_result"
    }
   ],
   "source": [
    "df_delivery.isna().sum()"
   ],
   "metadata": {
    "collapsed": false,
    "pycharm": {
     "name": "#%%\n"
    }
   }
  },
  {
   "cell_type": "code",
   "execution_count": 446,
   "outputs": [
    {
     "data": {
      "text/plain": "<Figure size 640x480 with 1 Axes>",
      "image/png": "[encoded data removed]"
     },
     "metadata": {},
     "output_type": "display_data"
    }
   ],
   "source": [
    "df_delivery['height_in_msq'] = df_delivery['height_in_msq']\n"
   ],
   "metadata": {
    "collapsed": false,
    "pycharm": {
     "name": "#%%\n"
    }
   }
  },
  {
   "cell_type": "code",
   "execution_count": null,
   "outputs": [],
   "source": [],
   "metadata": {
    "collapsed": false,
    "pycharm": {
     "name": "#%%\n"
    }
   }
  }
 ],
 "metadata": {
  "kernelspec": {
   "display_name": "Python 3",
   "language": "python",
   "name": "python3"
  },
  "language_info": {
   "codemirror_mode": {
    "name": "ipython",
    "version": 2
   },
   "file_extension": ".py",
   "mimetype": "text/x-python",
   "name": "python",
   "nbconvert_exporter": "python",
   "pygments_lexer": "ipython2",
   "version": "2.7.6"
  }
 },
 "nbformat": 4,
 "nbformat_minor": 0
}